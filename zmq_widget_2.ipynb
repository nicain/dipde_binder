{
 "cells": [
  {
   "cell_type": "code",
   "execution_count": 1,
   "metadata": {
    "collapsed": false
   },
   "outputs": [
    {
     "data": {
      "text/html": [
       "<style>\n",
       ".output_wrapper, .output {\n",
       "    height:auto !important;\n",
       "    max-height:1000px;  /* your desired max-height here */\n",
       "}\n",
       ".output_scroll {\n",
       "    box-shadow:none !important;\n",
       "    webkit-box-shadow:none !important;\n",
       "}\n",
       "</style>"
      ],
      "text/plain": [
       "<IPython.core.display.HTML object>"
      ]
     },
     "metadata": {},
     "output_type": "display_data"
    }
   ],
   "source": [
    "%%html\n",
    "<style>\n",
    ".output_wrapper, .output {\n",
    "    height:auto !important;\n",
    "    max-height:1000px;  /* your desired max-height here */\n",
    "}\n",
    ".output_scroll {\n",
    "    box-shadow:none !important;\n",
    "    webkit-box-shadow:none !important;\n",
    "}\n",
    "</style>"
   ]
  },
  {
   "cell_type": "code",
   "execution_count": 5,
   "metadata": {
    "collapsed": false
   },
   "outputs": [
    {
     "data": {
      "application/javascript": [
       "/* Put everything inside the global mpl namespace */\n",
       "window.mpl = {};\n",
       "\n",
       "mpl.get_websocket_type = function() {\n",
       "    if (typeof(WebSocket) !== 'undefined') {\n",
       "        return WebSocket;\n",
       "    } else if (typeof(MozWebSocket) !== 'undefined') {\n",
       "        return MozWebSocket;\n",
       "    } else {\n",
       "        alert('Your browser does not have WebSocket support.' +\n",
       "              'Please try Chrome, Safari or Firefox ≥ 6. ' +\n",
       "              'Firefox 4 and 5 are also supported but you ' +\n",
       "              'have to enable WebSockets in about:config.');\n",
       "    };\n",
       "}\n",
       "\n",
       "mpl.figure = function(figure_id, websocket, ondownload, parent_element) {\n",
       "    this.id = figure_id;\n",
       "\n",
       "    this.ws = websocket;\n",
       "\n",
       "    this.supports_binary = (this.ws.binaryType != undefined);\n",
       "\n",
       "    if (!this.supports_binary) {\n",
       "        var warnings = document.getElementById(\"mpl-warnings\");\n",
       "        if (warnings) {\n",
       "            warnings.style.display = 'block';\n",
       "            warnings.textContent = (\n",
       "                \"This browser does not support binary websocket messages. \" +\n",
       "                    \"Performance may be slow.\");\n",
       "        }\n",
       "    }\n",
       "\n",
       "    this.imageObj = new Image();\n",
       "\n",
       "    this.context = undefined;\n",
       "    this.message = undefined;\n",
       "    this.canvas = undefined;\n",
       "    this.rubberband_canvas = undefined;\n",
       "    this.rubberband_context = undefined;\n",
       "    this.format_dropdown = undefined;\n",
       "\n",
       "    this.image_mode = 'full';\n",
       "\n",
       "    this.root = $('<div/>');\n",
       "    this._root_extra_style(this.root)\n",
       "    this.root.attr('style', 'display: inline-block');\n",
       "\n",
       "    $(parent_element).append(this.root);\n",
       "\n",
       "    this._init_header(this);\n",
       "    this._init_canvas(this);\n",
       "    this._init_toolbar(this);\n",
       "\n",
       "    var fig = this;\n",
       "\n",
       "    this.waiting = false;\n",
       "\n",
       "    this.ws.onopen =  function () {\n",
       "            fig.send_message(\"supports_binary\", {value: fig.supports_binary});\n",
       "            fig.send_message(\"send_image_mode\", {});\n",
       "            fig.send_message(\"refresh\", {});\n",
       "        }\n",
       "\n",
       "    this.imageObj.onload = function() {\n",
       "            if (fig.image_mode == 'full') {\n",
       "                // Full images could contain transparency (where diff images\n",
       "                // almost always do), so we need to clear the canvas so that\n",
       "                // there is no ghosting.\n",
       "                fig.context.clearRect(0, 0, fig.canvas.width, fig.canvas.height);\n",
       "            }\n",
       "            fig.context.drawImage(fig.imageObj, 0, 0);\n",
       "        };\n",
       "\n",
       "    this.imageObj.onunload = function() {\n",
       "        this.ws.close();\n",
       "    }\n",
       "\n",
       "    this.ws.onmessage = this._make_on_message_function(this);\n",
       "\n",
       "    this.ondownload = ondownload;\n",
       "}\n",
       "\n",
       "mpl.figure.prototype._init_header = function() {\n",
       "    var titlebar = $(\n",
       "        '<div class=\"ui-dialog-titlebar ui-widget-header ui-corner-all ' +\n",
       "        'ui-helper-clearfix\"/>');\n",
       "    var titletext = $(\n",
       "        '<div class=\"ui-dialog-title\" style=\"width: 100%; ' +\n",
       "        'text-align: center; padding: 3px;\"/>');\n",
       "    titlebar.append(titletext)\n",
       "    this.root.append(titlebar);\n",
       "    this.header = titletext[0];\n",
       "}\n",
       "\n",
       "\n",
       "\n",
       "mpl.figure.prototype._canvas_extra_style = function(canvas_div) {\n",
       "\n",
       "}\n",
       "\n",
       "\n",
       "mpl.figure.prototype._root_extra_style = function(canvas_div) {\n",
       "\n",
       "}\n",
       "\n",
       "mpl.figure.prototype._init_canvas = function() {\n",
       "    var fig = this;\n",
       "\n",
       "    var canvas_div = $('<div/>');\n",
       "\n",
       "    canvas_div.attr('style', 'position: relative; clear: both; outline: 0');\n",
       "\n",
       "    function canvas_keyboard_event(event) {\n",
       "        return fig.key_event(event, event['data']);\n",
       "    }\n",
       "\n",
       "    canvas_div.keydown('key_press', canvas_keyboard_event);\n",
       "    canvas_div.keyup('key_release', canvas_keyboard_event);\n",
       "    this.canvas_div = canvas_div\n",
       "    this._canvas_extra_style(canvas_div)\n",
       "    this.root.append(canvas_div);\n",
       "\n",
       "    var canvas = $('<canvas/>');\n",
       "    canvas.addClass('mpl-canvas');\n",
       "    canvas.attr('style', \"left: 0; top: 0; z-index: 0; outline: 0\")\n",
       "\n",
       "    this.canvas = canvas[0];\n",
       "    this.context = canvas[0].getContext(\"2d\");\n",
       "\n",
       "    var rubberband = $('<canvas/>');\n",
       "    rubberband.attr('style', \"position: absolute; left: 0; top: 0; z-index: 1;\")\n",
       "\n",
       "    var pass_mouse_events = true;\n",
       "\n",
       "    canvas_div.resizable({\n",
       "        start: function(event, ui) {\n",
       "            pass_mouse_events = false;\n",
       "        },\n",
       "        resize: function(event, ui) {\n",
       "            fig.request_resize(ui.size.width, ui.size.height);\n",
       "        },\n",
       "        stop: function(event, ui) {\n",
       "            pass_mouse_events = true;\n",
       "            fig.request_resize(ui.size.width, ui.size.height);\n",
       "        },\n",
       "    });\n",
       "\n",
       "    function mouse_event_fn(event) {\n",
       "        if (pass_mouse_events)\n",
       "            return fig.mouse_event(event, event['data']);\n",
       "    }\n",
       "\n",
       "    rubberband.mousedown('button_press', mouse_event_fn);\n",
       "    rubberband.mouseup('button_release', mouse_event_fn);\n",
       "    // Throttle sequential mouse events to 1 every 20ms.\n",
       "    rubberband.mousemove('motion_notify', mouse_event_fn);\n",
       "\n",
       "    rubberband.mouseenter('figure_enter', mouse_event_fn);\n",
       "    rubberband.mouseleave('figure_leave', mouse_event_fn);\n",
       "\n",
       "    canvas_div.on(\"wheel\", function (event) {\n",
       "        event = event.originalEvent;\n",
       "        event['data'] = 'scroll'\n",
       "        if (event.deltaY < 0) {\n",
       "            event.step = 1;\n",
       "        } else {\n",
       "            event.step = -1;\n",
       "        }\n",
       "        mouse_event_fn(event);\n",
       "    });\n",
       "\n",
       "    canvas_div.append(canvas);\n",
       "    canvas_div.append(rubberband);\n",
       "\n",
       "    this.rubberband = rubberband;\n",
       "    this.rubberband_canvas = rubberband[0];\n",
       "    this.rubberband_context = rubberband[0].getContext(\"2d\");\n",
       "    this.rubberband_context.strokeStyle = \"#000000\";\n",
       "\n",
       "    this._resize_canvas = function(width, height) {\n",
       "        // Keep the size of the canvas, canvas container, and rubber band\n",
       "        // canvas in synch.\n",
       "        canvas_div.css('width', width)\n",
       "        canvas_div.css('height', height)\n",
       "\n",
       "        canvas.attr('width', width);\n",
       "        canvas.attr('height', height);\n",
       "\n",
       "        rubberband.attr('width', width);\n",
       "        rubberband.attr('height', height);\n",
       "    }\n",
       "\n",
       "    // Set the figure to an initial 600x600px, this will subsequently be updated\n",
       "    // upon first draw.\n",
       "    this._resize_canvas(600, 600);\n",
       "\n",
       "    // Disable right mouse context menu.\n",
       "    $(this.rubberband_canvas).bind(\"contextmenu\",function(e){\n",
       "        return false;\n",
       "    });\n",
       "\n",
       "    function set_focus () {\n",
       "        canvas.focus();\n",
       "        canvas_div.focus();\n",
       "    }\n",
       "\n",
       "    window.setTimeout(set_focus, 100);\n",
       "}\n",
       "\n",
       "mpl.figure.prototype._init_toolbar = function() {\n",
       "    var fig = this;\n",
       "\n",
       "    var nav_element = $('<div/>')\n",
       "    nav_element.attr('style', 'width: 100%');\n",
       "    this.root.append(nav_element);\n",
       "\n",
       "    // Define a callback function for later on.\n",
       "    function toolbar_event(event) {\n",
       "        return fig.toolbar_button_onclick(event['data']);\n",
       "    }\n",
       "    function toolbar_mouse_event(event) {\n",
       "        return fig.toolbar_button_onmouseover(event['data']);\n",
       "    }\n",
       "\n",
       "    for(var toolbar_ind in mpl.toolbar_items) {\n",
       "        var name = mpl.toolbar_items[toolbar_ind][0];\n",
       "        var tooltip = mpl.toolbar_items[toolbar_ind][1];\n",
       "        var image = mpl.toolbar_items[toolbar_ind][2];\n",
       "        var method_name = mpl.toolbar_items[toolbar_ind][3];\n",
       "\n",
       "        if (!name) {\n",
       "            // put a spacer in here.\n",
       "            continue;\n",
       "        }\n",
       "        var button = $('<button/>');\n",
       "        button.addClass('ui-button ui-widget ui-state-default ui-corner-all ' +\n",
       "                        'ui-button-icon-only');\n",
       "        button.attr('role', 'button');\n",
       "        button.attr('aria-disabled', 'false');\n",
       "        button.click(method_name, toolbar_event);\n",
       "        button.mouseover(tooltip, toolbar_mouse_event);\n",
       "\n",
       "        var icon_img = $('<span/>');\n",
       "        icon_img.addClass('ui-button-icon-primary ui-icon');\n",
       "        icon_img.addClass(image);\n",
       "        icon_img.addClass('ui-corner-all');\n",
       "\n",
       "        var tooltip_span = $('<span/>');\n",
       "        tooltip_span.addClass('ui-button-text');\n",
       "        tooltip_span.html(tooltip);\n",
       "\n",
       "        button.append(icon_img);\n",
       "        button.append(tooltip_span);\n",
       "\n",
       "        nav_element.append(button);\n",
       "    }\n",
       "\n",
       "    var fmt_picker_span = $('<span/>');\n",
       "\n",
       "    var fmt_picker = $('<select/>');\n",
       "    fmt_picker.addClass('mpl-toolbar-option ui-widget ui-widget-content');\n",
       "    fmt_picker_span.append(fmt_picker);\n",
       "    nav_element.append(fmt_picker_span);\n",
       "    this.format_dropdown = fmt_picker[0];\n",
       "\n",
       "    for (var ind in mpl.extensions) {\n",
       "        var fmt = mpl.extensions[ind];\n",
       "        var option = $(\n",
       "            '<option/>', {selected: fmt === mpl.default_extension}).html(fmt);\n",
       "        fmt_picker.append(option)\n",
       "    }\n",
       "\n",
       "    // Add hover states to the ui-buttons\n",
       "    $( \".ui-button\" ).hover(\n",
       "        function() { $(this).addClass(\"ui-state-hover\");},\n",
       "        function() { $(this).removeClass(\"ui-state-hover\");}\n",
       "    );\n",
       "\n",
       "    var status_bar = $('<span class=\"mpl-message\"/>');\n",
       "    nav_element.append(status_bar);\n",
       "    this.message = status_bar[0];\n",
       "}\n",
       "\n",
       "mpl.figure.prototype.request_resize = function(x_pixels, y_pixels) {\n",
       "    // Request matplotlib to resize the figure. Matplotlib will then trigger a resize in the client,\n",
       "    // which will in turn request a refresh of the image.\n",
       "    this.send_message('resize', {'width': x_pixels, 'height': y_pixels});\n",
       "}\n",
       "\n",
       "mpl.figure.prototype.send_message = function(type, properties) {\n",
       "    properties['type'] = type;\n",
       "    properties['figure_id'] = this.id;\n",
       "    this.ws.send(JSON.stringify(properties));\n",
       "}\n",
       "\n",
       "mpl.figure.prototype.send_draw_message = function() {\n",
       "    if (!this.waiting) {\n",
       "        this.waiting = true;\n",
       "        this.ws.send(JSON.stringify({type: \"draw\", figure_id: this.id}));\n",
       "    }\n",
       "}\n",
       "\n",
       "\n",
       "mpl.figure.prototype.handle_save = function(fig, msg) {\n",
       "    var format_dropdown = fig.format_dropdown;\n",
       "    var format = format_dropdown.options[format_dropdown.selectedIndex].value;\n",
       "    fig.ondownload(fig, format);\n",
       "}\n",
       "\n",
       "\n",
       "mpl.figure.prototype.handle_resize = function(fig, msg) {\n",
       "    var size = msg['size'];\n",
       "    if (size[0] != fig.canvas.width || size[1] != fig.canvas.height) {\n",
       "        fig._resize_canvas(size[0], size[1]);\n",
       "        fig.send_message(\"refresh\", {});\n",
       "    };\n",
       "}\n",
       "\n",
       "mpl.figure.prototype.handle_rubberband = function(fig, msg) {\n",
       "    var x0 = msg['x0'];\n",
       "    var y0 = fig.canvas.height - msg['y0'];\n",
       "    var x1 = msg['x1'];\n",
       "    var y1 = fig.canvas.height - msg['y1'];\n",
       "    x0 = Math.floor(x0) + 0.5;\n",
       "    y0 = Math.floor(y0) + 0.5;\n",
       "    x1 = Math.floor(x1) + 0.5;\n",
       "    y1 = Math.floor(y1) + 0.5;\n",
       "    var min_x = Math.min(x0, x1);\n",
       "    var min_y = Math.min(y0, y1);\n",
       "    var width = Math.abs(x1 - x0);\n",
       "    var height = Math.abs(y1 - y0);\n",
       "\n",
       "    fig.rubberband_context.clearRect(\n",
       "        0, 0, fig.canvas.width, fig.canvas.height);\n",
       "\n",
       "    fig.rubberband_context.strokeRect(min_x, min_y, width, height);\n",
       "}\n",
       "\n",
       "mpl.figure.prototype.handle_figure_label = function(fig, msg) {\n",
       "    // Updates the figure title.\n",
       "    fig.header.textContent = msg['label'];\n",
       "}\n",
       "\n",
       "mpl.figure.prototype.handle_cursor = function(fig, msg) {\n",
       "    var cursor = msg['cursor'];\n",
       "    switch(cursor)\n",
       "    {\n",
       "    case 0:\n",
       "        cursor = 'pointer';\n",
       "        break;\n",
       "    case 1:\n",
       "        cursor = 'default';\n",
       "        break;\n",
       "    case 2:\n",
       "        cursor = 'crosshair';\n",
       "        break;\n",
       "    case 3:\n",
       "        cursor = 'move';\n",
       "        break;\n",
       "    }\n",
       "    fig.rubberband_canvas.style.cursor = cursor;\n",
       "}\n",
       "\n",
       "mpl.figure.prototype.handle_message = function(fig, msg) {\n",
       "    fig.message.textContent = msg['message'];\n",
       "}\n",
       "\n",
       "mpl.figure.prototype.handle_draw = function(fig, msg) {\n",
       "    // Request the server to send over a new figure.\n",
       "    fig.send_draw_message();\n",
       "}\n",
       "\n",
       "mpl.figure.prototype.handle_image_mode = function(fig, msg) {\n",
       "    fig.image_mode = msg['mode'];\n",
       "}\n",
       "\n",
       "mpl.figure.prototype.updated_canvas_event = function() {\n",
       "    // Called whenever the canvas gets updated.\n",
       "    this.send_message(\"ack\", {});\n",
       "}\n",
       "\n",
       "// A function to construct a web socket function for onmessage handling.\n",
       "// Called in the figure constructor.\n",
       "mpl.figure.prototype._make_on_message_function = function(fig) {\n",
       "    return function socket_on_message(evt) {\n",
       "        if (evt.data instanceof Blob) {\n",
       "            /* FIXME: We get \"Resource interpreted as Image but\n",
       "             * transferred with MIME type text/plain:\" errors on\n",
       "             * Chrome.  But how to set the MIME type?  It doesn't seem\n",
       "             * to be part of the websocket stream */\n",
       "            evt.data.type = \"image/png\";\n",
       "\n",
       "            /* Free the memory for the previous frames */\n",
       "            if (fig.imageObj.src) {\n",
       "                (window.URL || window.webkitURL).revokeObjectURL(\n",
       "                    fig.imageObj.src);\n",
       "            }\n",
       "\n",
       "            fig.imageObj.src = (window.URL || window.webkitURL).createObjectURL(\n",
       "                evt.data);\n",
       "            fig.updated_canvas_event();\n",
       "            fig.waiting = false;\n",
       "            return;\n",
       "        }\n",
       "        else if (typeof evt.data === 'string' && evt.data.slice(0, 21) == \"data:image/png;base64\") {\n",
       "            fig.imageObj.src = evt.data;\n",
       "            fig.updated_canvas_event();\n",
       "            fig.waiting = false;\n",
       "            return;\n",
       "        }\n",
       "\n",
       "        var msg = JSON.parse(evt.data);\n",
       "        var msg_type = msg['type'];\n",
       "\n",
       "        // Call the  \"handle_{type}\" callback, which takes\n",
       "        // the figure and JSON message as its only arguments.\n",
       "        try {\n",
       "            var callback = fig[\"handle_\" + msg_type];\n",
       "        } catch (e) {\n",
       "            console.log(\"No handler for the '\" + msg_type + \"' message type: \", msg);\n",
       "            return;\n",
       "        }\n",
       "\n",
       "        if (callback) {\n",
       "            try {\n",
       "                // console.log(\"Handling '\" + msg_type + \"' message: \", msg);\n",
       "                callback(fig, msg);\n",
       "            } catch (e) {\n",
       "                console.log(\"Exception inside the 'handler_\" + msg_type + \"' callback:\", e, e.stack, msg);\n",
       "            }\n",
       "        }\n",
       "    };\n",
       "}\n",
       "\n",
       "// from http://stackoverflow.com/questions/1114465/getting-mouse-location-in-canvas\n",
       "mpl.findpos = function(e) {\n",
       "    //this section is from http://www.quirksmode.org/js/events_properties.html\n",
       "    var targ;\n",
       "    if (!e)\n",
       "        e = window.event;\n",
       "    if (e.target)\n",
       "        targ = e.target;\n",
       "    else if (e.srcElement)\n",
       "        targ = e.srcElement;\n",
       "    if (targ.nodeType == 3) // defeat Safari bug\n",
       "        targ = targ.parentNode;\n",
       "\n",
       "    // jQuery normalizes the pageX and pageY\n",
       "    // pageX,Y are the mouse positions relative to the document\n",
       "    // offset() returns the position of the element relative to the document\n",
       "    var x = e.pageX - $(targ).offset().left;\n",
       "    var y = e.pageY - $(targ).offset().top;\n",
       "\n",
       "    return {\"x\": x, \"y\": y};\n",
       "};\n",
       "\n",
       "/*\n",
       " * return a copy of an object with only non-object keys\n",
       " * we need this to avoid circular references\n",
       " * http://stackoverflow.com/a/24161582/3208463\n",
       " */\n",
       "function simpleKeys (original) {\n",
       "  return Object.keys(original).reduce(function (obj, key) {\n",
       "    if (typeof original[key] !== 'object')\n",
       "        obj[key] = original[key]\n",
       "    return obj;\n",
       "  }, {});\n",
       "}\n",
       "\n",
       "mpl.figure.prototype.mouse_event = function(event, name) {\n",
       "    var canvas_pos = mpl.findpos(event)\n",
       "\n",
       "    if (name === 'button_press')\n",
       "    {\n",
       "        this.canvas.focus();\n",
       "        this.canvas_div.focus();\n",
       "    }\n",
       "\n",
       "    var x = canvas_pos.x;\n",
       "    var y = canvas_pos.y;\n",
       "\n",
       "    this.send_message(name, {x: x, y: y, button: event.button,\n",
       "                             step: event.step,\n",
       "                             guiEvent: simpleKeys(event)});\n",
       "\n",
       "    /* This prevents the web browser from automatically changing to\n",
       "     * the text insertion cursor when the button is pressed.  We want\n",
       "     * to control all of the cursor setting manually through the\n",
       "     * 'cursor' event from matplotlib */\n",
       "    event.preventDefault();\n",
       "    return false;\n",
       "}\n",
       "\n",
       "mpl.figure.prototype._key_event_extra = function(event, name) {\n",
       "    // Handle any extra behaviour associated with a key event\n",
       "}\n",
       "\n",
       "mpl.figure.prototype.key_event = function(event, name) {\n",
       "\n",
       "    // Prevent repeat events\n",
       "    if (name == 'key_press')\n",
       "    {\n",
       "        if (event.which === this._key)\n",
       "            return;\n",
       "        else\n",
       "            this._key = event.which;\n",
       "    }\n",
       "    if (name == 'key_release')\n",
       "        this._key = null;\n",
       "\n",
       "    var value = '';\n",
       "    if (event.ctrlKey && event.which != 17)\n",
       "        value += \"ctrl+\";\n",
       "    if (event.altKey && event.which != 18)\n",
       "        value += \"alt+\";\n",
       "    if (event.shiftKey && event.which != 16)\n",
       "        value += \"shift+\";\n",
       "\n",
       "    value += 'k';\n",
       "    value += event.which.toString();\n",
       "\n",
       "    this._key_event_extra(event, name);\n",
       "\n",
       "    this.send_message(name, {key: value,\n",
       "                             guiEvent: simpleKeys(event)});\n",
       "    return false;\n",
       "}\n",
       "\n",
       "mpl.figure.prototype.toolbar_button_onclick = function(name) {\n",
       "    if (name == 'download') {\n",
       "        this.handle_save(this, null);\n",
       "    } else {\n",
       "        this.send_message(\"toolbar_button\", {name: name});\n",
       "    }\n",
       "};\n",
       "\n",
       "mpl.figure.prototype.toolbar_button_onmouseover = function(tooltip) {\n",
       "    this.message.textContent = tooltip;\n",
       "};\n",
       "mpl.toolbar_items = [[\"Home\", \"Reset original view\", \"fa fa-home icon-home\", \"home\"], [\"Back\", \"Back to  previous view\", \"fa fa-arrow-left icon-arrow-left\", \"back\"], [\"Forward\", \"Forward to next view\", \"fa fa-arrow-right icon-arrow-right\", \"forward\"], [\"\", \"\", \"\", \"\"], [\"Pan\", \"Pan axes with left mouse, zoom with right\", \"fa fa-arrows icon-move\", \"pan\"], [\"Zoom\", \"Zoom to rectangle\", \"fa fa-square-o icon-check-empty\", \"zoom\"], [\"\", \"\", \"\", \"\"], [\"Download\", \"Download plot\", \"fa fa-floppy-o icon-save\", \"download\"]];\n",
       "\n",
       "mpl.extensions = [\"eps\", \"jpeg\", \"pdf\", \"png\", \"ps\", \"raw\", \"svg\", \"tif\"];\n",
       "\n",
       "mpl.default_extension = \"png\";var comm_websocket_adapter = function(comm) {\n",
       "    // Create a \"websocket\"-like object which calls the given IPython comm\n",
       "    // object with the appropriate methods. Currently this is a non binary\n",
       "    // socket, so there is still some room for performance tuning.\n",
       "    var ws = {};\n",
       "\n",
       "    ws.close = function() {\n",
       "        comm.close()\n",
       "    };\n",
       "    ws.send = function(m) {\n",
       "        //console.log('sending', m);\n",
       "        comm.send(m);\n",
       "    };\n",
       "    // Register the callback with on_msg.\n",
       "    comm.on_msg(function(msg) {\n",
       "        //console.log('receiving', msg['content']['data'], msg);\n",
       "        // Pass the mpl event to the overriden (by mpl) onmessage function.\n",
       "        ws.onmessage(msg['content']['data'])\n",
       "    });\n",
       "    return ws;\n",
       "}\n",
       "\n",
       "mpl.mpl_figure_comm = function(comm, msg) {\n",
       "    // This is the function which gets called when the mpl process\n",
       "    // starts-up an IPython Comm through the \"matplotlib\" channel.\n",
       "\n",
       "    var id = msg.content.data.id;\n",
       "    // Get hold of the div created by the display call when the Comm\n",
       "    // socket was opened in Python.\n",
       "    var element = $(\"#\" + id);\n",
       "    var ws_proxy = comm_websocket_adapter(comm)\n",
       "\n",
       "    function ondownload(figure, format) {\n",
       "        window.open(figure.imageObj.src);\n",
       "    }\n",
       "\n",
       "    var fig = new mpl.figure(id, ws_proxy,\n",
       "                           ondownload,\n",
       "                           element.get(0));\n",
       "\n",
       "    // Call onopen now - mpl needs it, as it is assuming we've passed it a real\n",
       "    // web socket which is closed, not our websocket->open comm proxy.\n",
       "    ws_proxy.onopen();\n",
       "\n",
       "    fig.parent_element = element.get(0);\n",
       "    fig.cell_info = mpl.find_output_cell(\"<div id='\" + id + \"'></div>\");\n",
       "    if (!fig.cell_info) {\n",
       "        console.error(\"Failed to find cell for figure\", id, fig);\n",
       "        return;\n",
       "    }\n",
       "\n",
       "    var output_index = fig.cell_info[2]\n",
       "    var cell = fig.cell_info[0];\n",
       "\n",
       "};\n",
       "\n",
       "mpl.figure.prototype.handle_close = function(fig, msg) {\n",
       "    fig.root.unbind('remove')\n",
       "\n",
       "    // Update the output cell to use the data from the current canvas.\n",
       "    fig.push_to_output();\n",
       "    var dataURL = fig.canvas.toDataURL();\n",
       "    // Re-enable the keyboard manager in IPython - without this line, in FF,\n",
       "    // the notebook keyboard shortcuts fail.\n",
       "    IPython.keyboard_manager.enable()\n",
       "    $(fig.parent_element).html('<img src=\"' + dataURL + '\">');\n",
       "    fig.close_ws(fig, msg);\n",
       "}\n",
       "\n",
       "mpl.figure.prototype.close_ws = function(fig, msg){\n",
       "    fig.send_message('closing', msg);\n",
       "    // fig.ws.close()\n",
       "}\n",
       "\n",
       "mpl.figure.prototype.push_to_output = function(remove_interactive) {\n",
       "    // Turn the data on the canvas into data in the output cell.\n",
       "    var dataURL = this.canvas.toDataURL();\n",
       "    this.cell_info[1]['text/html'] = '<img src=\"' + dataURL + '\">';\n",
       "}\n",
       "\n",
       "mpl.figure.prototype.updated_canvas_event = function() {\n",
       "    // Tell IPython that the notebook contents must change.\n",
       "    IPython.notebook.set_dirty(true);\n",
       "    this.send_message(\"ack\", {});\n",
       "    var fig = this;\n",
       "    // Wait a second, then push the new image to the DOM so\n",
       "    // that it is saved nicely (might be nice to debounce this).\n",
       "    setTimeout(function () { fig.push_to_output() }, 1000);\n",
       "}\n",
       "\n",
       "mpl.figure.prototype._init_toolbar = function() {\n",
       "    var fig = this;\n",
       "\n",
       "    var nav_element = $('<div/>')\n",
       "    nav_element.attr('style', 'width: 100%');\n",
       "    this.root.append(nav_element);\n",
       "\n",
       "    // Define a callback function for later on.\n",
       "    function toolbar_event(event) {\n",
       "        return fig.toolbar_button_onclick(event['data']);\n",
       "    }\n",
       "    function toolbar_mouse_event(event) {\n",
       "        return fig.toolbar_button_onmouseover(event['data']);\n",
       "    }\n",
       "\n",
       "    for(var toolbar_ind in mpl.toolbar_items){\n",
       "        var name = mpl.toolbar_items[toolbar_ind][0];\n",
       "        var tooltip = mpl.toolbar_items[toolbar_ind][1];\n",
       "        var image = mpl.toolbar_items[toolbar_ind][2];\n",
       "        var method_name = mpl.toolbar_items[toolbar_ind][3];\n",
       "\n",
       "        if (!name) { continue; };\n",
       "\n",
       "        var button = $('<button class=\"btn btn-default\" href=\"#\" title=\"' + name + '\"><i class=\"fa ' + image + ' fa-lg\"></i></button>');\n",
       "        button.click(method_name, toolbar_event);\n",
       "        button.mouseover(tooltip, toolbar_mouse_event);\n",
       "        nav_element.append(button);\n",
       "    }\n",
       "\n",
       "    // Add the status bar.\n",
       "    var status_bar = $('<span class=\"mpl-message\" style=\"text-align:right; float: right;\"/>');\n",
       "    nav_element.append(status_bar);\n",
       "    this.message = status_bar[0];\n",
       "\n",
       "    // Add the close button to the window.\n",
       "    var buttongrp = $('<div class=\"btn-group inline pull-right\"></div>');\n",
       "    var button = $('<button class=\"btn btn-mini btn-primary\" href=\"#\" title=\"Stop Interaction\"><i class=\"fa fa-power-off icon-remove icon-large\"></i></button>');\n",
       "    button.click(function (evt) { fig.handle_close(fig, {}); } );\n",
       "    button.mouseover('Stop Interaction', toolbar_mouse_event);\n",
       "    buttongrp.append(button);\n",
       "    var titlebar = this.root.find($('.ui-dialog-titlebar'));\n",
       "    titlebar.prepend(buttongrp);\n",
       "}\n",
       "\n",
       "mpl.figure.prototype._root_extra_style = function(el){\n",
       "    var fig = this\n",
       "    el.on(\"remove\", function(){\n",
       "\tfig.close_ws(fig, {});\n",
       "    });\n",
       "}\n",
       "\n",
       "mpl.figure.prototype._canvas_extra_style = function(el){\n",
       "    // this is important to make the div 'focusable\n",
       "    el.attr('tabindex', 0)\n",
       "    // reach out to IPython and tell the keyboard manager to turn it's self\n",
       "    // off when our div gets focus\n",
       "\n",
       "    // location in version 3\n",
       "    if (IPython.notebook.keyboard_manager) {\n",
       "        IPython.notebook.keyboard_manager.register_events(el);\n",
       "    }\n",
       "    else {\n",
       "        // location in version 2\n",
       "        IPython.keyboard_manager.register_events(el);\n",
       "    }\n",
       "\n",
       "}\n",
       "\n",
       "mpl.figure.prototype._key_event_extra = function(event, name) {\n",
       "    var manager = IPython.notebook.keyboard_manager;\n",
       "    if (!manager)\n",
       "        manager = IPython.keyboard_manager;\n",
       "\n",
       "    // Check for shift+enter\n",
       "    if (event.shiftKey && event.which == 13) {\n",
       "        this.canvas_div.blur();\n",
       "        event.shiftKey = false;\n",
       "        // Send a \"J\" for go to next cell\n",
       "        event.which = 74;\n",
       "        event.keyCode = 74;\n",
       "        manager.command_mode();\n",
       "        manager.handle_keydown(event);\n",
       "    }\n",
       "}\n",
       "\n",
       "mpl.figure.prototype.handle_save = function(fig, msg) {\n",
       "    fig.ondownload(fig, null);\n",
       "}\n",
       "\n",
       "\n",
       "mpl.find_output_cell = function(html_output) {\n",
       "    // Return the cell and output element which can be found *uniquely* in the notebook.\n",
       "    // Note - this is a bit hacky, but it is done because the \"notebook_saving.Notebook\"\n",
       "    // IPython event is triggered only after the cells have been serialised, which for\n",
       "    // our purposes (turning an active figure into a static one), is too late.\n",
       "    var cells = IPython.notebook.get_cells();\n",
       "    var ncells = cells.length;\n",
       "    for (var i=0; i<ncells; i++) {\n",
       "        var cell = cells[i];\n",
       "        if (cell.cell_type === 'code'){\n",
       "            for (var j=0; j<cell.output_area.outputs.length; j++) {\n",
       "                var data = cell.output_area.outputs[j];\n",
       "                if (data.data) {\n",
       "                    // IPython >= 3 moved mimebundle to data attribute of output\n",
       "                    data = data.data;\n",
       "                }\n",
       "                if (data['text/html'] == html_output) {\n",
       "                    return [cell, data, j];\n",
       "                }\n",
       "            }\n",
       "        }\n",
       "    }\n",
       "}\n",
       "\n",
       "// Register the function which deals with the matplotlib target/channel.\n",
       "// The kernel may be null if the page has been refreshed.\n",
       "if (IPython.notebook.kernel != null) {\n",
       "    IPython.notebook.kernel.comm_manager.register_target('matplotlib', mpl.mpl_figure_comm);\n",
       "}\n"
      ],
      "text/plain": [
       "<IPython.core.display.Javascript object>"
      ]
     },
     "metadata": {},
     "output_type": "display_data"
    },
    {
     "data": {
      "text/html": [
       "<img src=\"data:image/png;base64,iVBORw0KGgoAAAANSUhEUgAAAZAAAAGQCAYAAACAvzbMAAAgAElEQVR4Xu3dCbht6Xzn8W8Rx1hVUTEEVYQSY4smRAwpUoajUDRN0kFImyIOmjKESqNMhaCim9MRoqWDJjGTDqfNRWhtVkTSlOmWKW2oe8t4DNXP73p3ets5996z1177v9fe97ue5z6uW3u971qfd+/92/81vUfgooACCiigQAeBIzqs4yoKKKCAAgpggPgmUEABBRToJGCAdGJzJQUUUEABA8T3gAIKKKBAJwEDpBObKymggAIKGCC+BxRQQAEFOgkYIJ3YXEkBBRRQwADxPaCAAgoo0EnAAOnE5koKKKCAAgaI7wEFFFBAgU4CBkgnNldSQAEFFDBAfA8ooIACCnQSMEA6sbmSAgoooIAB4ntAAQUUUKCTgAHSic2VFFBAAQUMEN8DCiiggAKdBAyQTmyupIACCihggPgeUEABBRToJGCAdGJzJQUUUEABA8T3gAIKKKBAJwEDpBObKymggAIKGCC+BxRQQAEFOgkYIJ3YXEkBBRRQwADxPaCAAgoo0EnAAOnE5koKKKCAAgaI7wEFFFBAgU4CBkgnNldSQAEFFDBAfA8ooIACCnQSMEA6sbmSAgoooIAB4ntAAQUUUKCTgAHSic2VFFBAAQUMEN8DCiiggAKdBAyQTmyupIACCihggPgeUEABBRToJDD0ALkM8BzgRGAN+BTwWODMTnvrSgoooIACvQkMPUBeDVwKuDPwLeDhwGnAFYFze1OwIQUUUECBqQWGHiAfBV4EPLft2cWB84AbAR+Yem9dQQEFFFCgN4GhB8jvAPcH7g58AzgFuC9wHeAHvSnYkAIKKKDA1AJDD5Acqno+cFvgR8A32+Gs903safbj8q06mRrBFRRQQIGBChwJfBk4f4jbN+QAybZ9Bnhnqzxy6OoOwF8CJwAfHwO9AnDOEIHdJgUUUGBGgWOBL83YxlxWH3KAHAN8Hbge8LGxvf8Q8ArgmWP/dhSwd8+ePRx1VP66vMupp57K6aefvrw70Lbc/RjWEDoeyzce+/bt47jjjsuGHw3sG9Ye/HRrhhwg2b5PAO8FHgF8G7g98ErgdsA7JgNk7969Sx8gp5xyCmecccYQ3ytTbZP7MRXX3F/seMydeKoOdjMeCZCjj052GCBT4Y69+HjgWcBNgAsDe9p9Ibkya3zZX4EYIF2Z+19vNx+Q/nvtv0X3o3/TWVo8nMbDAJnlnTLduisTIFtbW6yvr0+39wN8tfsxrEFxPJZvPAyQujFbmQCpI7MnBRQYsoABUjc6BkidtT0poECBgAFSgNy6MEDqrO1JAQUKBAyQAmQDpA7ZnhRQoE7AAKmztgKps7YnBRQoEDBACpCtQOqQ7UkBBeoEDJA6ayuQOmt7UkCBAgEDpADZCqQO2Z4UUKBOwACps7YCqbO2JwUUKBAwQAqQrUDqkO1JAQXqBAyQOmsrkDpre1JAgQIBA6QA2QqkDtmeFFCgTsAAqbO2AqmzticFFCgQMEAKkK1A6pDtSQEF6gQMkDprK5A6a3tSQIECAQOkANkKpA7ZnhRQoE7AAKmztgKps7YnBRQoEDBACpCtQOqQ7UkBBeoEDJA6ayuQOmt7UkCBAgEDpADZCqQO2Z4UUKBOwACps7YCqbO2JwUUKBAwQAqQrUDqkO1JAQXqBAyQOmsrkDpre1JAgQIBA6QA2QqkDtmeFFCgTsAAqbO2AqmzticFFCgQMEBmQ/4EcMWxJi4IXBS4M/D6iaYNkNmsXVsBBQYmYID0OyAPAR4HHAtsGyD94tqaAgoMS8AA6Xc8/h54HXDqDs1agfRrbWsKKLBgAQOkvwE4EdgCrgp8wQDpD9aWFFBgmAIGSH/j8krgIsDJB2jSCqQ/a1tSQIEBCBgg/QzC5VrVcUfgzQZIP6i2ooACwxYwQPoZn9OAe7bDVwdqcX8FsrGxwdra2v7XrK+v7//jooACCiyLwNbWFvmTZXt7m83Nzfz1aGDfEPfhiCFu1Ng25dLdnPN4DvCsg2yrh7AGPpBungIKTCdgBTKd106vvgvw0nbp7jcNkNlBbUEBBZZDwACpGycrkDpre1JAgQIBA6QAuXVhgNRZ25MCChQIGCAFyAZIHbI9KaBAnYABUmdtBVJnbU8KKFAgYIAUIFuB1CHbkwIK1AkYIHXWViB11vakgAIFAgZIAbIVSB2yPSmgQJ2AAVJnbQVSZ21PCihQIGCAFCBbgdQh25MCCtQJGCB11lYgddb2pIACBQIGSAGyFUgdsj0poECdgAFSZ20FUmdtTwooUCBggBQgW4HUIduTAgrUCRggddZWIHXW9qSAAgUCBkgBshVIHbI9KaBAnYABUmdtBVJnbU8KKFAgYIAUIFuB1CHbkwIK1AkYIHXWViB11vakgAIFAgZIAbIVSB2yPSmgQJ2AAVJnbQVSZ21PCihQIGCAFCBbgdQh25MCCtQJGCB11lYgddb2pIACBQIGSAGyFUgdsj0poECdgAFSZ20FUmdtTwooUCBggBQgW4HUIduTAgrUCRggddZWIHXW9qSAAgUCBkgBshVIHbI9KaBAnYAB0o/1jYGnADcEfgx8ErjZRNNWIP1Y24oCCgxEwACZfSASHn8LPBh4FfBD4FeBDxggs+PaggIKDFfAAJl9bM4E3g886hBNWYHMbm0LCigwIAEDZLbBuChwHvBs4BbA8cDngKcBr7ECmQ3XtRVQYNgCBshs43MFYA/wNeD2wEeBOwGvAE5olcmoByuQ2axdWwEFBiZggMw2IAmFc4GnA6eONfVm4CPAY8f+bX+AbGxssLa2tv+f19fX9/9xUUABBZZFYGtri/zJsr29zebmZv56NLBviPtwxBA3amybPg28crcBsnfvXo46KlniooACCiy3gBXI7OP3UOAxwEnAx4GTxw5hfXCyAjFAZge3BQUUGIaAAdLPOPwhsNHKuFQkpwF/M9G050D6sbYVBRQYiIABUjcQBkidtT0poECBgAFSgNy6MEDqrO1JAQUKBAyQAmQDpA7ZnhRQoE7AAKmztgKps7YnBRQoEDBACpCtQOqQ7UkBBeoEDJA6ayuQOmt7UkCBAgEDpADZCqQO2Z4UUKBOwACps7YCqbO2JwUUKBAwQAqQrUDqkO1JAQXqBAyQOmsrkDpre1JAgQIBA6QA2QqkDtmeFFCgTsAAqbO2AqmzticFFCgQMEAKkK1A6pDtSQEF6gQMkDprK5A6a3tSQIECAQOkANkKpA7ZnhRQoE7AAKmztgKps7YnBRQoEDBACpCtQOqQ7UkBBeoEDJA6ayuQOmt7UkCBAgEDpADZCqQO2Z4UUKBOwACps7YCqbO2JwUUKBAwQAqQrUDqkO1JAQXqBAyQOmsrkDpre1JAgQIBA6QA2QqkDtmeFFCgTsAAqbO2AqmzticFFCgQMEAKkK1A6pDtSQEF6gQMkDprK5A6a3tSQIECAQNkNuQnAI8DvgscAZwPvBG4xw7NGiCzWbu2AgoMTMAAmW1AEiC3BE7YRTMGyC6QfIkCCiyPgAEy21gZILP5ubYCCiyxgAEy2+AlQB7ZDmHlMNZ7gT8CPu8hrNlgXVsBBYYvYIDMNkbXAs4D9gCXA54J/DrwKy1Uxlv3ENZs1q6tgAIDEzBA+h2QNWAvcDLw1ommDZB+rW1NAQUWLGCA9DsAowC5I/CWnQJkY2ODtbW8DNbX1/f/cVFAAQWWRWBra4v8ybK9vc3m5mb+ejSwb4j7kMtjh7rcDXg78A3gsu0Q1s2A6wDfsQIZ6rC5XQoo0IfAqlQglwBuDdwQOAb4JvDBVgXkHMW8lte3cx4XB74FnNnuC/nsDh16CGteo2C7CiiwEIFlD5CUTbkS6n7tZPbH2zmI/HuqgHxp/znwJODchQj//04NkAUPgN0roEC/AsseIF8EXttC4qwdaBIi9wfuBFypX7qpWzNApiZzBQUUGLLAsgfIce0S2kMZ7/Z1h2pnlv9ugMyi57oKKDA4gWUPkMGBHmSDDJBlGi23VQEFDimwSgGyDbwQ2JjY65xQz4n1RS8GyKJHwP4VUKBXgVUKkO8B/wB8uj0N94dNKldhHdmrWrfGDJBubq6lgAIDFVilAMlNLMcCbwB+AuRmvm+3m1vy5b3oxQBZ9AjYvwIK9CqwagGSL+nc5v1y4JeAk4DPtMt5e4Xr0JgB0gHNVRRQYLgCqxQg44eqcvf6n7abCy8PXHQAQ2CADGAQ3AQFFOhPYJUC5DXAXSZongjcB8hlvIteDJBFj4D9K6BArwKrFCC9wsyhMQNkDqg2qYACixNYhQC54i74csf6ohcDZNEjYP8KKNCrwCoESK64Ov8AKjkXkv92wV7VujVmgHRzcy0FFBiowCoEyPFjtgmMDwHXn/A+ewD+BsgABsFNUECB/gRWIUAmNYZy5/nkdhkg/b1vbUkBBQYgYIDUDYIBUmdtTwooUCBggBQgty4MkDpre1JAgQIBA6QA2QCpQ7YnBRSoE1iFAJm8Cmt05dW4oldh1b2n7EkBBQ4TgVUIkFvuYqzetovXzPslHsKat7DtK6BAqcAqBEgp2AydGSAz4LmqAgoMT2DZA+RywFd2wbrb1+2iqc4vMUA607miAgoMUWDZA+TzwF8DL2iPbZ80zk2GDwTuClx5wQNggCx4AOxeAQX6FVj2ALkkcBpwX+BrwCeAvcDRwLWBywIvbq/JDYaLXAyQRerbtwIK9C6w7AEyAklg3Ba4QZv/PGGRR5q8GTi3d7VuDRog3dxcSwEFBiqwKgEyUN6f2SwDZBlGyW1UQIFdCxggu6aa+YUGyMyENqCAAkMSMED6HY3XAncCbgW8faJpA6Rfa1tTQIEFCxgg/Q3AvYC7t3nYb22A9AdrSwooMEwBA6SfcTkWeA9wMyCzH1qB9ONqKwooMGCBVQyQywCZ5vaDhe5b7X6UFwF5NpcBUohvVwoosBiBVQqQXwBe0i7n/R5wceBuwE2Bh82R90HtvMd668MAmSO2TSugwHAEVilAXgrkSbynAh8FcpNhbiR8N3C1OZFfpR26uhGwZzcBsrGxwdra2v6Xrq+v7//jooACCiyLwNbWFvmTZXt7m83Nzfw19+LtG+I+JBR2s+SZWFcFvgOMT2ubGwl/fjcNdHjNvYE/a3Cj7UwllLvh/6o9RmXUrFdhdQB2FQUUGK7AKlUgXwLy7KvvjwXIkcAn2zmReYzCRdqd7+NtnwP8NvCWibvgDZB5jIBtKqDAwgRWKUBeDnyuHcIaVSBPaKGSS2yrlh+3S3m9D6RK3H4UUGAhAqsUIFcA3gHkBEP+fjZwMeDGQKqTRS9WIIseAftXQIFeBVYpQAKTQ0onA78MfBV41YBO7Bggvb51bUwBBRYtsEoBkkt2X7kDaOYCSZAsejFAFj0C9q+AAr0KrFKA5BKyfElPLuNXZPWKN2VjBsiUYL5cAQWGLbBKAXIekKuuxpdcvvsZ4FIDGAYDZACD4CYooEB/AqsQILny6vx2qW6eQzW+XBp4E/Bb/ZF1bskA6UznigooMESBVQiQTGebm/ieCzx4DDmPFMmJ9NyP8aMB4BsgAxgEN0EBBfoTWIUAGWncHHhXfzS9t2SA9E5qgwoosEiBVQqQkWMu5c2hq/FHoEwe2lqEuQGyCHX7VECBuQmsUoDkEe55oOJNJsIjeBecm+DuGzZAdm/lKxVQYAkEVilAMp3szwFPAt4K3BJ4cnuo4V8MYCwMkAEMgpuggAL9CaxSgHwNuDbw9fYQw1zCm5kC3wBcvz+yzi0ZIJ3pXFEBBYYosEoB8q02B0ic82j3zNWRiaUOdINh9XgYINXi9qeAAnMVWKUA+RCQ+Tk+AbytVR4JlRzS+qW5Ku6ucQNkd06+SgEFlkRglQIkc3BkIqc3Aye2ALkw8ADgxQMYDwNkAIPgJiigQH8CqxQgkyoJj/wZyjSLBkh/71tbUkCBAQiscoCE9+LAo4DTBmBtgAxgENwEBRToT2BVAiSTRt0Q+FR7dEluInxgC44c1rpaf2SdWzJAOtO5ogIKDFFgFQLkfsAL2vmPfEk/ErgNcA3gKUDuAck0s4teDJBFj4D9K6BArwKrECBnAU8FXgFk7vMXtjvSN4Dv96o1W2MGyGx+rq2AAgMTWIUAORfITYNZ8siShMYlgW8PzNoAGdiAuDkKKDCbwCoEyOSNgkOZgXByZAyQ2d6rrq2AAgMTWIUA+UE7hDWifQzw9Ann3Ey46MUAWfQI2L8CCvQqsAoB8p42I+GBYDJb4Qm9qnVrzADp5uZaCigwUIFVCJCB0v6LzTJAlmWk3E4FFNiVgAGyK6ZeXmSA9MJoIwooMBQBA2S2kXh8u3T4UsA2kAc65hzMx3Zo1gCZzdq1FVBgYAIGyGwD8svAP7WbGDOZ1UOBRwOX2+G8jAEym7VrK6DAwAQMkP4GJA9u/APg2cBlgG9MNG2A9GdtSwooMAABA2T2Qbgd8DLgaOAnwJ+0BzhOtmyAzG5tCwooMCCBVQqQUw/gmjvTvwBszfnu9NwNnwmtzgFe7TmQAb3L3RQFFJiLwCoFyPva3Oe5Mz1f4pkPPb/686ysKwM/Am4LfGQukj9tNE8BziyIv9H6He/KCmSO8DatgAL1AqsUIE9ufJn7I0/fvcDYPCC5Ez3nJq4L3GKOzDmRnsfH/y7wmp3OgWxsbLC2trb/P62vr+//46KAAgosi8DW1hb5k2V7e5vNzc38NYfwhzJ5389Q5lf9bpavAscBPxx78YWAPcAvAke2Q1nH7KaxXb4mV13lKcC5EuvS7ZEqdwWuCXxtpwDZu3cvRx2VYsRFAQUUWG6BVapAEiA3Bc4eG5LjgfcClwVSHXx97Mm9fYzcG4EbAJdo6fsBINXOh3do3ENYfYjbhgIKDEZglQLkOcBJwB8DXwSuBDyinTx/GJCrpXJ469cWpG+ALAjebhVQYD4CqxQgOVz1uHb+4QrAl4CXtFkJc5d4vsBzXiTzhyxiMUAWoW6fCigwN4FVCpC5IfXUsAHSE6TNKKDAMARWMUAyG2FOmI8vOaS16MUAWfQI2L8CCvQqsEoBcuN2yCr3fIyWXMGV+UAy1e2iFwNk0SNg/woo0KvAKgXIR4F3Ay8EvjOhNH5lVq+AUzRmgEyB5UsVUGD4AqsUIOeNPY9qiPIGyBBHxW1SQIHOAqsUILnf4+7A5ztrzHdFA2S+vraugALFAqsUIA8C7gM8E/jKhOOZxa47dWeADGAQ3AQFFOhPYJUCJI9S32nxJHp/7xdbUkABBf5ZYJUC5GBXWuXhioterEAWPQL2r4ACvQqsUoD0CjOHxgyQOaDapAIKLE5g2QPkMcDTG9/jD8KYBxwuejFAFj0C9q+AAr0KLHuA5KH0owk1cg/ITkvOgZzQq1q3xgyQbm6upYACAxVY9gAZKOuOm2WALNNoua0KKHBIgVUJkEzxl/lALg9kDvQhLgbIEEfFbVJAgc4CqxIgAcgNhJkJ8HudNea7ogEyX19bV0CBYoFVCpCHAFcHHj4xrW0x6QG7M0CGMhJuhwIK9CKwSgHyOeBYIPd85HDW+I2FV+lFa7ZGDJDZ/FxbAQUGJrBKAXLfg9i+aADuBsgABsFNUECB/gRWKUD6U5lPSwbIfFxtVQEFFiSw7AGSQ1bnNLsrHsTQGQkX9AazWwUUWF2BZQ+QfUB+2WfJOY/cNDi+OCPh6r533TMFFFiwwLIHSKavzcnzLMcfxNIZCRf8RrN7BRRYPYFlD5BlGhHPgSzTaLmtCihwSIFVCJB3ArcY29N7AC875J7Xv8AAqTe3RwUUmKPAKgTI+HmQUH0TOGaOZl2bNkC6yrmeAgoMUmAVA+RbwCWLtJ8G3B64EvBt4F3Ao8euDBvfDAOkaFDsRgEFagRWMUAqK5CnAq8CzgIuBvwpcC3gejsMnwFS8562FwUUKBJYhQD5AfCMMa9HAc+c8DvYZFN9Ul8X+HA7hLZ3omEDpE9p21JAgYULrEKA5CT65P0f47D5bycWSefw1QOBnZ69ZYAUDYLdKKBAjcAqBEiN1KF7uRXwWuAuwFs8hHVoMF+hgALLLWCA9DN+dwBeAtwbeMMBmtxfgWxsbLC2lvmvYH19ff8fFwUUUGBZBLa2tsifLNvb22xubuavRwO5InZwSx5HMuQl9508D7gb8NaDbKiHsIY8im6bAgpMLWAFMjXZz6zwYOBJwMnA3x2iKQNkNmvXVkCBgQkYILMNSB7g+EMgV4JlGT288aQdAsUAmc3atRVQYGACBkjdgBggddb2pIACBQIGSAFy68IAqbO2JwUUKBAwQAqQDZA6ZHtSQIE6AQOkztoKpM7anhRQoEDAAClAtgKpQ7YnBRSoEzBA6qytQOqs7UkBBQoEDJACZCuQOmR7UkCBOgEDpM7aCqTO2p4UUKBAwAApQLYCqUO2JwUUqBMwQOqsrUDqrO1JAQUKBAyQAmQrkDpke1JAgToBA6TO2gqkztqeFFCgQMAAKUC2AqlDticFFKgTMEDqrK1A6qztSQEFCgQMkAJkK5A6ZHtSQIE6AQOkztoKpM7anhRQoEDAAClAtgKpQ7YnBRSoEzBA6qytQOqs7UkBBQoEDJACZCuQOmR7UkCBOgEDpM7aCqTO2p4UUKBAwAApQLYCqUO2JwUUqBMwQOqsrUDqrO1JAQUKBAyQAmQrkDpke1JAgToBA6TO2gqkztqeFFCgQMAAKUC2AqlDticFFKgTMEDqrK1A6qztSQEFCgQMkNmQfxvYAK4LXAK4EPCTAzRpgMxm7doKKDAwAQNktgG5NXAMcDHgzw2Q2TBdWwEFlkvAAOlnvG4OvN0A6QfTVhRQYDkEDJB+xskA6cfRVhRQYIkEDJB+BssA6cfRVhRQYIkEDJB+BssA6cfRVhRQYIkEDJB+BmvXAbKxscHa2tr+XtfX1/f/cVFAAQWWRWBra4v8ybK9vc3m5mb+ejSwb4j7cMQQN6pt0wXaifMEyJuAI4EfxxU4f2K7vYx3wAPppimgwPQCViDTm42vcW/gxWNhkbBLcPwmcKYBMhuuayugwLAFDJC68bECqbO2JwUUKBAwQAqQWxcGSJ21PSmgQIGAAVKAbIDUIduTAgrUCRggddZWIHXW9qSAAgUCBkgBshVIHbI9KaBAnYABUmdtBVJnbU8KKFAgYIAUIFuB1CHbkwIK1AkYIHXWViB11vakgAIFAgZIAbIVSB2yPSmgQJ2AAVJnbQVSZ21PCihQIGCAFCBbgdQh25MCCtQJGCB11lYgddb2pIACBQIGSAGyFUgdsj0poECdgAFSZ20FUmdtTwooUCBggBQgW4HUIduTAgrUCRggddY/rUD27OGoo/JXFwUUWDmBI4+EI4Y8B16/4gZIv54Ha+2nAQIYH3Xo9qRAqUA+4YfRD0QDpO7dZQVSZ21PCixGwApkMe4H6XVV6kFPog/ureUGKaDALAJWILPoTbeuATKdl69WQIGBCxggdQNkgNRZ25MCChQIGCAFyK0LA6TO2p4UUKBAwAApQDZA6pDtSQEF6gQMkDprK5A6a3tSQIECAQOkANkKpA7ZnhRQoE7AAKmztgKps7YnBRQoEDBACpCtQOqQ7UkBBeoEDJB+rJ8I3K89peRDwAbwyYmmrUD6sbYVBRQYiIABMvtAPAp4MHAScDbwBOBewNWA7441b4DMbm0LCigwIAEDZPbB+CxwBvC81tQFgS8DpwAvM0BmB7YFBRQYpoABMtu4pKo4F7gx8P6xpraAs4BHGiCzAbu2AgoMV8AAmW1sjgW+CFwT+Mexpl4B7AMeYIDMBuzaCigwXAEDZLaxmboC2djYYG1tbX+v6+vr+/+4KKCAAssisLW1Rf5k2d7eZnNzM389uv1oHtxuDP1x7judA/kK8HDPgQzuveQGKaBAjwJWILNj5jxHrsK6PZAweTxwT+DqXoU1O64tKKDAcAUMkH7G5jTg94EjgQ96H0g/qLaigALDFjBA6sbH+0DqrO1JAQUKBAyQAuTWhQFSZ21PCihQIGCAFCAbIHXI9qSAAnUCBkidtRVInbU9KaBAgYABUoBsBVKHbE8KKFAnYIDUWVuB1FnbkwIKFAgYIAXIViB1yPakgAJ1AgZInbUVSJ21PSmgQIGAAVKAbAVSh2xPCihQJ2CA1FlbgdRZ25MCChQIGCAFyFYgdcj2pIACdQIGSJ21FUidtT0poECBgAFSgGwFUodsTwooUCdggNRZW4HUWduTAgoUCBggBchWIHXI9qSAAnUCBkidtRVInbU9KaBAgYABUoBsBVKHbE8KKFAnYIDUWVuB1FnbkwIKFAgYIAXIViB1yPakgAJ1AgZInbUVSJ21PSmgQIGAAVKAbAVSh2xPCihQJ2CA1FlbgdRZ25MCChQIGCAFyFYgdcj2pIACdQIGSJ21FUidtT0poECBgAFSgGwFUodsTwooUCdggNRZW4HUWduTAgoUCBggBchWIHXI9qSAAnUCBkh3618Bng5cD7gscCvg7Qdpzgqku7VrKqDAAAUMkO6Dcg3gpsBHgA8Atz5cAmRra4v19fXucgNZ0/0YyEC0zXA8lm88DJB+xuwnh1MFcsopp3DGGWf0I7fAVtyPBeLv0LXjsXzjYYD0M2YGSD+Opa34hVXKfcjOHI9DEpW+YDfjYYD8yyF5MXBv4HzgiB1G7J3AiRP/vusA2bNnD0cdldMhy7uceuqpnH766cu7A23L3Y9hDaHjsXzjkQA57rjjsuFHA/uGtQc/3ZqdvsTnuZ0XAy5ykA5+CJzXIUCuAJwzzw23bQUUUGBBAscCX1pQ3wfttjpAuhjspgLJflx+h/Dp0p/rKKCAAkMROBL4cjtqM5Rt+uftGHKAXLhVSN8FTgJyeOtHwI8Hp+gGKaCAAoehwFAD5ErA53ZI3ScCTzoMx8ldVkABBQYnMNQAGRyUG6SAAgoo8LMCQw6QVBv3A3JZ1YeADeCThxjAHC88C8ilCxcCcv5ktNwVeDJwReDzwH8EXlvwhuhzP34X+H3gmm3fstXKKRkAAAt3SURBVK/Zj/cu2X6Mb+5/AP4EeArw+CXcj1zA8QzgtsAa8AXgd4BPzHlf+nxfXaB9Nu4BXLIdc8+YvGDO+5Dmp9mPHMa+MfCDdng7V3M+Gnj+kn3OD7Ufi/ycTzXkQw2QRwEPbuc+zgaeANwLuBqQcyIHWl7UTqbfZiJAbtTOoeSD/UbgTsBLgZsBH55KbLoX970ffwB8pgXG95tRQjF37udE27yWvvdjtJ1XB/62XfzwhoIA6Xs/8mWb988rgVx7fS5wPLAX+Pq8BgPoez8e0n6I/Cbw98AJwJuBOwJvHdB+vAM4s30f7LRZy/I5P9R+LOpzPvVQDzVAPgvkduzntT26YPuCPAV42QH28uT2IXgs8JaJAPmv7Vrqfzu27muAbwD3n1pt9yv0vR879fwt4PeA1+9+s6Z+5Tz2I796Uznli/fhwLsLAqTv/Uh457kzvza16Gwr9L0fz2lV+/jnI48Q+mvgmbNt6kHXnnY/8sV7sPfJsnzOD7Ufi/qcTz3UQwyQHLLKL7mUqu8f26OtdnjqkTvs5S+0w1y5Wusy7blZ44ew8ivxr9qhhtHqCZp8YG4wtdruVpjHfkz2nF9c+UClMsthuXks89qPHHpLBZJyvcsHatp9ncd+vK8dssqhq5sD/9R+4CQUxw+fTrutB3v9PPbjWu3zkbH4WLuZN+GRSuRQh4277luX/cj75F8B+fHxtfajKYc+v9M2Ylk+54faj0V8zjuN4xADJDfNfLEd5//Hsb16Rbsb8wE77GnC4aPA09oHOU/uHQ+QHPbJL6k/G1v3gUAqmnz5zmOZx36Mb2fO86Sc/8uDlPR97Nc89uNfA68D8r/5sVARIPPYj08DV24hmC/cawN/Azx3jr/c57EfFwWeCjy0BV/C72ET5xb6eC+Nt9FlP34d+If2nrkO8N+A/wP8u9bwsnzOd9qPfNflEPvkUvU57zS+QwyQaX+Z5M3zCCC/xvPGvwXwtnZCc3TPyDL8MtnNfowG+arA/2y/GlNJzXPpezx+rlWLOa+VEMlSESB970e2Oxd3bLdqeTQGj2nn2FJBz2OZx37kEUP5Zf9b7fL5/D2HRHNxwLxOpE+7HztZpkLKOZpcPJMT68vwOd/Nfizic97pvTrEAMmO7HRs9CvtWPnkOZC8+XOFVU4qZ0nlkTdnTmImWF4C5Nho/i2vGy2LOgcyy35k2zNXSk5w5vxQ1UOz+hyPVE1pL+efRu+/POsnj7HJv+eX5byWPvcj76sXtqrjJmMbPO8Amcfn4+NALkD5T2P78ex2ccbt5zUYU37OD/bFm892Pv/L8DnfzX4s6nM+9VAPNUByniNXYeXNmw99Lu+8ZztmPnkVVr58Lj625/kw55BWbkbMl9T3WnWSX7kpEf9H+4WYQz+/MeersPrej+xbriLLpY//eerR7r5Cn/uRD/rlJjblVe18VyYRy7HteS197kfeV9dvFwLkCsHsQy6vzvsrJ6XzZ15L3/uxCfxqq0BGh4/zPsuPtVSK81qm2Y+c28wEcznnl++AHC78i3bu725tA3MUYuif893sx6I+51OP81ADJDtyWrvnIeXpB8fuA8kxwVxqmOvu/26HPc7JzMlzIHlZTpjnhFuCJSecTx07hDI13BQr9Lkf2a+U7fkAjcYu18KnEsmX7zyXPvdjcjuzX+8puAprHu+r/MjJubecC/lqO+QzzyuXRnZ9jkcecpr3z78Bfr798Eog5jOSynCey273I/dv5XLpnLPMVZmxfnX7TI9Ooi/D53w3+7HIz/lUYz3kAJlqR3yxAgoooECtgAFS621vCiigwMoIGCArM5TuiAIKKFArYIDUetubAgoosDICBsjKDKU7ooACCtQKGCC13vamgAIKrIyAAbIyQ+mOKKCAArUCBkitt70poIACKyNggKzMULojCiigQK2AAVLrbW8HFshDIfMUgTxhoHrJU5rzVNc8/2lZl1u2eXDyqPNDLXkMTh7zk0fiuCjQWcAA6UznilMInAfkkStZLtweRTF6HEv+PfO47PRYmim66PzSPFI+j2DPo0hGj+3IAyvzePNMFHURIJN25XE6eWLyjzr3NN8VEyB5QnMe83Go5dItMDMPSB7u6aJAJwEDpBObK80gkFn8btomLZqhmd5WzQP58lylPEU3S54LlWelZU6PVCQJusx7fof2tNd5Pxuq645NEyDpIw8cTdX1uK4dup4CBojvgWqBAwVInvp6q/aE5GxTnqp6VpthMhVK5hnPXOCZIS9zVGTOijxUM7PoZWKnLDl8k+lx7wtcvv37H7aHa+60n3l9DuXcpfWX1+QJu5nONbNcZrKrAy23aw9/zMP9/m97vH5CZ7Tkybx5QOGoivkUkKfGfqlNr5wHLma/UpGlv2x3vtCzjCwyNXMmPsuMh3m44YPGZjrM03PzFN1UEZlk6eXAs8YqkMxv/sdA5o7JvDjpPyEYxyz/HsjTcPNUWxcFOgkYIJ3YXGkGgYMFSH5F52nDWRIg1wUy130Ob2W2vDx1OP+eL9IceskslXmUf76Is+TJrndsjyXP7HR3ao8kzxwjn9thmzOlbkLoF1sI5CVpL7PD5d8z10wmjRp9sY+ayJdz5pO5M/DO9iX+plbF5Is8j+xO0D2/TcqUp8UmmLIN32yP5E+lk0NiObyXp/nmadHXaBVPAiRPwk1VlFDK4bX/1WbQzCx8eUL12cB/aYfajm9tXmUsQM4B/qjN2pdJvBI4mfcjj6HPkv//v1tbk1MkzDC8rno4CRggh9NoD2NfpwmQhMD922aPZrDLl26mj82SyiGTOqVayJKKIb/y88t9tOS8QL7kd5p8K7MG5jHymdI1MwuOlhyySkWQQMsv/HzpZ7Kl0SPzM1vfJ9oX9GidfOFnNszbtF/2mSMk51Iml4TVl9t/SxtZ8gWfQNxo+5YASWWV6mG0ZJ9T6eQ192jVRqqs0bmlzJ+TbRydA0nAZD6PhFj6m1zSdoIy0xskbFwUmFrAAJmazBVmFJgmQDJ5UCYTy5Ivxpx/yJd0ZjXMst5+eecQT37151zGvrHDPHl/58s5k4fli3dy2akCmXxNwiVTvSao7tfaSnWSeR1GoZN+cjjsCy0YMlvkZVuYTbZ3w1ZNpIoY/+Wfk/SpqHIYKgEyXo2ljVRDMUgwPbrNrpnDY6Ml85K8YSxAcmgqoXZiq3L+O/CkiUNgViAzvpkP99UNkMP9HVC///MKkIRIrpZKqKSq2M2SL/1UF5lIKVXKwZZ8wafdh7VzKpn0JxOU7bTk3EJm0MwVXpNLKpCcB8l/yzmeLAmGUQWSSZMOFSB3byf4D1aBjPebSiiVWA5pZeraLL/XgigVlosCnQQMkE5srjSDwLwCJJuUq6ZyWOo+7cRyqocbtMpkdKJ9ctNzTiGHeHIfSpZUJXdts9/lMFA+IzlUltfli/u17dxKTuRniuR3tfVy/uKYNuVqqqFUKTnJnZPlqTQyHev4OZCcPE/I5BxIgihVTtrI+ZJDBUgO5+XwXtrP+ZOc+0j1kXMhCaMLtcNcuTz56+0cSqq50TmRbHKqnexf/s1FgU4CBkgnNleaQWC3ATI5zW2+GHPIKCewdzqElU3K+znnAh4AHAtk/vUPt3MSuQppp2XyPpD8qn9GC6IEQQ6bfbadsM5hpNGScx05vJarrXIeIifac9XT69oL8ss+4ZHDTNn20VVYCatMG5vX5kqu8auwck4iy6ECJK9JMOYkekInV2HlEFUCdBQgCbq8JhcF5Eqzl4xdspv7QNJXrmTb6fzIDMPrqoeTgAFyOI22+3oggVW4E32a0c3J9oRKzom4KNBZwADpTOeKCiigwOEtYIAc3uPv3iuggAKdBQyQznSuqIACChzeAgbI4T3+7r0CCijQWcAA6UznigoooMDhLWCAHN7j794roIACnQX+H7paa4G9XoYQAAAAAElFTkSuQmCC\">"
      ],
      "text/plain": [
       "<IPython.core.display.HTML object>"
      ]
     },
     "metadata": {},
     "output_type": "display_data"
    }
   ],
   "source": [
    "%matplotlib notebook\n",
    "import zmq\n",
    "import threading\n",
    "import ipywidgets as ipw\n",
    "from IPython.display import display\n",
    "import time\n",
    "from dipde.interfaces import PopulationInterface\n",
    "import ipywidgets as ipw\n",
    "from IPython.display import display, clear_output\n",
    "import numpy as np \n",
    "from dipde.internals.internalpopulation import InternalPopulation\n",
    "from dipde.internals.externalpopulation import ExternalPopulation\n",
    "from dipde.internals.simulationconfiguration import SimulationConfiguration\n",
    "from dipde.internals.network import Network\n",
    "from dipde.internals.simulation import Simulation\n",
    "from dipde.internals.connection import Connection as Connection\n",
    "import scipy.stats as sps\n",
    "from dipde.interfaces.jupyter import ProgressBar, ZMQIntSlider, wrap_widget\n",
    "import time\n",
    "import logging\n",
    "import os\n",
    "import dipde\n",
    "assert dipde.__version__ == '0.2.1'\n",
    "from IPython.display import display, clear_output\n",
    "import matplotlib.pyplot as plt\n",
    "import ipywidgets as ipw\n",
    "import logging\n",
    "from IPython.display import HTML\n",
    "from dipde.interfaces import PopulationInterface\n",
    "logging.disable(logging.CRITICAL)\n",
    "import traitlets\n",
    "import time\n",
    "import threading\n",
    "logging.disable(logging.CRITICAL)\n",
    "\n",
    "\n",
    "t0 = 0.\n",
    "dt = .001\n",
    "dv = .001\n",
    "v_max = .02\n",
    "tf = .5\n",
    "tau_m=.02\n",
    "weights=.005\n",
    "window_size = .1\n",
    "\n",
    "fig, ax = plt.subplots(1,1, figsize=(5,5))\n",
    "\n",
    "\n",
    "\n",
    "b1 = wrap_widget(ExternalPopulation(), ZMQIntSlider(5555, display=True, value=100, min=0, max=200, continuous_update=False), 'external_firing_rate')\n",
    "i1 = InternalPopulation(v_min=0, tau_m=tau_m, v_max=v_max, dv=dv, update_method='approx')\n",
    "\n",
    "\n",
    "b1_i1 = wrap_widget(Connection(b1, i1, 1, weights=weights), ZMQIntSlider(5556, display=True, value=1, min=1, max=3, continuous_update=False), 'nsyn') \n",
    "# b1_i1 = get_ConnnectionNsynZMQ(ZMQIntSlider(5557, display=True, value=5, max=10, continuous_update=False), source=b1, target=i1, weights=weights)\n",
    "# b1_i1 = Connection(b1, i1, 1, weights=weights)\n",
    "\n",
    "def update_callback(n):\n",
    "    time.sleep(.1)\n",
    "    \n",
    "i1.plot(xlim=(0,window_size), ax=ax, ylim=(-1,8), color='r', show=False)\n",
    "def checkpoint_callback(s):\n",
    "    p = s.network.population_list[1]\n",
    "\n",
    "    window_points = int(window_size/dt)\n",
    "\n",
    "    if len(p.t_record) < window_points:\n",
    "\n",
    "        t_vals = p.t_record\n",
    "        y_vals = p.firing_rate_record\n",
    "    else:\n",
    "        t_vals = p.t_record[-window_points:]\n",
    "        y_vals = p.firing_rate_record[-window_points:]\n",
    "\n",
    "    ax.lines[0].set_xdata(t_vals)\n",
    "    ax.lines[0].set_ydata(y_vals)\n",
    "    if t_vals[-1] < window_size:\n",
    "        t_max = window_size\n",
    "    else:\n",
    "        t_max = t_vals[-1]*1.05\n",
    "\n",
    "    ax.set_xlim((t_vals[0],t_max))\n",
    "\n",
    "    fig.canvas.draw()\n",
    "\n",
    "network = dipde.Network([b1, i1], [b1_i1], update_callback=update_callback, progress=ProgressBar())\n",
    "simulation_configuration = dipde.SimulationConfiguration(dt, tf, t0=t0, checkpoint_period=.2)\n",
    "simulation = dipde.Simulation(network=network, simulation_configuration=simulation_configuration, checkpoint_callback=checkpoint_callback)\n",
    "\n",
    "simulation.start()\n"
   ]
  },
  {
   "cell_type": "code",
   "execution_count": 4,
   "metadata": {
    "collapsed": false
   },
   "outputs": [
    {
     "data": {
      "text/plain": [
       "<dipde.internals.connection.Connection at 0x119fd4610>"
      ]
     },
     "execution_count": 4,
     "metadata": {},
     "output_type": "execute_result"
    }
   ],
   "source": [
    "# ExternalPopulation(None)\n",
    "Connection(b1, i1, None, weights=weights)"
   ]
  },
  {
   "cell_type": "code",
   "execution_count": null,
   "metadata": {
    "collapsed": true
   },
   "outputs": [],
   "source": []
  },
  {
   "cell_type": "code",
   "execution_count": null,
   "metadata": {
    "collapsed": true
   },
   "outputs": [],
   "source": []
  }
 ],
 "metadata": {
  "anaconda-cloud": {},
  "kernelspec": {
   "display_name": "Python [conda root]",
   "language": "python",
   "name": "conda-root-py"
  },
  "language_info": {
   "codemirror_mode": {
    "name": "ipython",
    "version": 2
   },
   "file_extension": ".py",
   "mimetype": "text/x-python",
   "name": "python",
   "nbconvert_exporter": "python",
   "pygments_lexer": "ipython2",
   "version": "2.7.12"
  },
  "widgets": {
   "state": {
    "0346d793198843ca883caaf7615617fa": {
     "views": [
      {
       "cell_index": 1
      }
     ]
    },
    "05b083d8b01a4f27a77c0b0e67146300": {
     "views": [
      {
       "cell_index": 1
      }
     ]
    },
    "08b090f7d3f0432ba55b6d527aaab406": {
     "views": [
      {
       "cell_index": 1
      }
     ]
    },
    "0992ddf21c4c4357948def45cecdd47d": {
     "views": [
      {
       "cell_index": 1
      }
     ]
    },
    "0c53bbba1d0d418e8fb80be0dba89d94": {
     "views": [
      {
       "cell_index": 1
      }
     ]
    },
    "0ded591e4e8640d29f9b31d1e3295deb": {
     "views": [
      {
       "cell_index": 1
      }
     ]
    },
    "0ee3f4000d1140788f646d43bb98dcfb": {
     "views": [
      {
       "cell_index": 1
      }
     ]
    },
    "1088fbeebd4c4731bfc65ba9d1cc69d7": {
     "views": [
      {
       "cell_index": 1
      }
     ]
    },
    "1262c7b2f83e4b4dbfdb073b3eb6c290": {
     "views": [
      {
       "cell_index": 1
      }
     ]
    },
    "16ab38fe1e9f41929e960567badbe362": {
     "views": [
      {
       "cell_index": 1
      }
     ]
    },
    "1f9821ef887d4c77a70bfca4b517dd00": {
     "views": [
      {
       "cell_index": 1
      }
     ]
    },
    "2260a9ad615a4f3fa04a6d08a1912235": {
     "views": [
      {
       "cell_index": 1
      }
     ]
    },
    "23829a760d65423685e9eec13dc0d0b6": {
     "views": [
      {
       "cell_index": 1
      }
     ]
    },
    "3392c6022c354d4d9a79ab4c6a31506c": {
     "views": [
      {
       "cell_index": 1
      }
     ]
    },
    "349a6abdebbb42d18488222f2d42e873": {
     "views": [
      {
       "cell_index": 1
      }
     ]
    },
    "35a1ecc3b8404114b65f55d91b210763": {
     "views": [
      {
       "cell_index": 1
      }
     ]
    },
    "39bf6a1acfc843e68ae698bb36109877": {
     "views": [
      {
       "cell_index": 1
      }
     ]
    },
    "3c2799ea366247709e3ab04b7dd0717c": {
     "views": [
      {
       "cell_index": 1
      }
     ]
    },
    "3cd34de6cf9e49fbba42edb865d85fcd": {
     "views": [
      {
       "cell_index": 1
      }
     ]
    },
    "3e8269dacb574a4fa965a0dd6b519831": {
     "views": [
      {
       "cell_index": 1
      }
     ]
    },
    "40fcb53d9f564f218f5e465dad48e5b4": {
     "views": [
      {
       "cell_index": 1
      }
     ]
    },
    "42654d28a5b84ef09eda68f7f33d43c8": {
     "views": [
      {
       "cell_index": 1
      }
     ]
    },
    "43ad5cad5fa940d78dfd04901f707102": {
     "views": [
      {
       "cell_index": 1
      }
     ]
    },
    "45506d39238f4da49be658047cdbd7a8": {
     "views": [
      {
       "cell_index": 1
      }
     ]
    },
    "4cfa7901995f4c7abcec18bf5835e28e": {
     "views": [
      {
       "cell_index": 1
      }
     ]
    },
    "4f04fb1b149742ed9a005a42c3634c1b": {
     "views": [
      {
       "cell_index": 1
      }
     ]
    },
    "536d4d3d89644c50a3622dca2cc1c1c7": {
     "views": [
      {
       "cell_index": 1
      }
     ]
    },
    "59533586f4654eda8556457abe62f0a3": {
     "views": [
      {
       "cell_index": 1
      }
     ]
    },
    "59d141848d1949f4917afa69d2b062bc": {
     "views": [
      {
       "cell_index": 1
      }
     ]
    },
    "5a09ef2d38fb48ed9bf32735716475bc": {
     "views": [
      {
       "cell_index": 1
      }
     ]
    },
    "5d2f167517774cc6adee2814ff09f3a7": {
     "views": [
      {
       "cell_index": 1
      }
     ]
    },
    "5f27a651c517452a8ed49ff570265e3f": {
     "views": [
      {
       "cell_index": 1
      }
     ]
    },
    "5f65bd3f1a4b4c568a48e0d599d4e6da": {
     "views": [
      {
       "cell_index": 1
      }
     ]
    },
    "61bf01c2fdec43b2a9ecbc2c17f07e06": {
     "views": [
      {
       "cell_index": 1
      }
     ]
    },
    "665060130cb840e49197dbc9040ecfb5": {
     "views": [
      {
       "cell_index": 1
      }
     ]
    },
    "6a6e6db8f93b44cca01e192de32ccb85": {
     "views": [
      {
       "cell_index": 1
      }
     ]
    },
    "6b75e0d53ec24b0b9c358f81b750e5c5": {
     "views": [
      {
       "cell_index": 1
      }
     ]
    },
    "6dc5518215a34c56ad5ac9112be0a8b4": {
     "views": [
      {
       "cell_index": 1
      }
     ]
    },
    "80db5245ac6447ccadf54d12138dd067": {
     "views": [
      {
       "cell_index": 1
      }
     ]
    },
    "84eea080c0e04aff81e8b7b762f590af": {
     "views": [
      {
       "cell_index": 1
      }
     ]
    },
    "8d3052d5d1e940aa96a5e179398d8447": {
     "views": [
      {
       "cell_index": 1
      }
     ]
    },
    "8dee319e84824447ab7f3b2001163bac": {
     "views": [
      {
       "cell_index": 1
      }
     ]
    },
    "92204250a51c436483ee4db77823a757": {
     "views": [
      {
       "cell_index": 1
      }
     ]
    },
    "9b2fe92b750c41cba60b53b9e9eab106": {
     "views": [
      {
       "cell_index": 1
      }
     ]
    },
    "9b672fd4074d47b39155efaca063709b": {
     "views": [
      {
       "cell_index": 1
      }
     ]
    },
    "9d4c8fd0647e4860aa00f733398ce9bd": {
     "views": [
      {
       "cell_index": 1
      }
     ]
    },
    "9dc8aa05118341f0a0637eb9a6884c87": {
     "views": [
      {
       "cell_index": 1
      }
     ]
    },
    "a3c99bd6e5814a01858473b9fbc6082e": {
     "views": [
      {
       "cell_index": 1
      }
     ]
    },
    "aa303e0f659f479f8f2c8449241e8fd5": {
     "views": [
      {
       "cell_index": 1
      }
     ]
    },
    "aec7f961e39d4c8a870d4dc9b4b0180e": {
     "views": [
      {
       "cell_index": 1
      }
     ]
    },
    "af1d73db10334c40b1c7d4760d2feb1a": {
     "views": [
      {
       "cell_index": 1
      }
     ]
    },
    "b02e930fac8342faac1e2c5cfa3a0b1c": {
     "views": [
      {
       "cell_index": 1
      }
     ]
    },
    "b16de543237343069c76315b02f5df4e": {
     "views": [
      {
       "cell_index": 1
      }
     ]
    },
    "b17f8450c33947d6b6e9c81008111e91": {
     "views": [
      {
       "cell_index": 1
      }
     ]
    },
    "b21ecd0cb74e4bd59ab194ba9c485bfe": {
     "views": [
      {
       "cell_index": 1
      }
     ]
    },
    "c19e2f7b98474a1bb37c214ff1c3161c": {
     "views": [
      {
       "cell_index": 1
      }
     ]
    },
    "c2ed3eab362343aba3cfb809a19744a7": {
     "views": [
      {
       "cell_index": 1
      }
     ]
    },
    "c632dc6662ca49efabafa1dd7b439bb0": {
     "views": [
      {
       "cell_index": 1
      }
     ]
    },
    "c67974345eea4e22a33554b25c28b0b8": {
     "views": [
      {
       "cell_index": 1
      }
     ]
    },
    "cc1d5826a99b48aab1d512ee77c80adc": {
     "views": [
      {
       "cell_index": 1
      }
     ]
    },
    "cd9bafeeda424fa9b5c85ccd8ec3381e": {
     "views": [
      {
       "cell_index": 1
      }
     ]
    },
    "d1ce4a77665a4fb68a634d2113c09fa5": {
     "views": [
      {
       "cell_index": 1
      }
     ]
    },
    "d6d4de8bcc744f1999e58ced12f6bfef": {
     "views": [
      {
       "cell_index": 1
      }
     ]
    },
    "d83b099c6976462c8347a410e1eca780": {
     "views": [
      {
       "cell_index": 1
      }
     ]
    },
    "dac8bfcba2d5401ea50b872f8f0e4a85": {
     "views": [
      {
       "cell_index": 1
      }
     ]
    },
    "dbacbaefd5f341c28e238ebd2e28db33": {
     "views": [
      {
       "cell_index": 1
      }
     ]
    },
    "dc5fa49a4d3844c88efa57c05e8558e3": {
     "views": [
      {
       "cell_index": 1
      }
     ]
    },
    "e77070a56ca84cbf904308b211953f66": {
     "views": [
      {
       "cell_index": 1
      }
     ]
    },
    "e98b1161afd84e71a5f1f193c7ed6c2d": {
     "views": [
      {
       "cell_index": 1
      }
     ]
    },
    "ebb2b2a21fbb4c4185845ad53d606650": {
     "views": [
      {
       "cell_index": 1
      }
     ]
    },
    "ec0bbccb94534322a78c6e4f936b64d9": {
     "views": [
      {
       "cell_index": 1
      }
     ]
    },
    "ef3bc58e02ba4130aa6d6879aced3851": {
     "views": [
      {
       "cell_index": 1
      }
     ]
    },
    "f29c343723d645c096d9c5f6c24781ee": {
     "views": [
      {
       "cell_index": 1
      }
     ]
    },
    "f489d05792dd4e38b6da18d7621ee270": {
     "views": [
      {
       "cell_index": 1
      }
     ]
    },
    "f58de5b8cdfd40b092b5e116f6427e97": {
     "views": [
      {
       "cell_index": 1
      }
     ]
    },
    "f7663f6be4e340988abb6b71ffab0c9d": {
     "views": [
      {
       "cell_index": 1
      }
     ]
    },
    "f8fe6d62f21a4f9daa3c797286d53a39": {
     "views": [
      {
       "cell_index": 1
      }
     ]
    },
    "fc01ecd9e10940ea8c3cf08960fdc395": {
     "views": [
      {
       "cell_index": 1
      }
     ]
    },
    "fca7446489c249f4b72ecaca4c36e9e6": {
     "views": [
      {
       "cell_index": 1
      }
     ]
    }
   },
   "version": "1.2.0"
  }
 },
 "nbformat": 4,
 "nbformat_minor": 0
}
