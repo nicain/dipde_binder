{
 "cells": [
  {
   "cell_type": "markdown",
   "metadata": {},
   "source": [
    "<div style=\"width:50%; float:left;\">\n",
    "    <img src=\"support_files/AIBS_banner.png\" width=\"430\" align=\"left\">\n",
    "</div>\n",
    "\n",
    "<div style=\"width:50%; float:right;\">\n",
    "    <img src=\"support_files/Dipde_Nick_final.png\" width=\"100\" height=\"100\" align=\"right\">\n",
    "</div>\n",
    "\n",
    "<div style=\"width:100%; float:left;\">\n",
    "    <hr>\n",
    "</div>\n",
    "\n"
   ]
  },
  {
   "cell_type": "markdown",
   "metadata": {},
   "source": [
    "<div style=\"border-left: 3px solid #000; padding: 1px; padding-left: 10px; background: #F0FAFF; \">\n",
    "<h1>Example: Recurrent</h1>\n",
    "<p> In this example, two internal dipde populations (one labeled \"excitatory\" and the other \"inhibitory\") receive from a several external populations. Try adjusting the strength of the recurrent connections, and see how this changes the steady state firing rates of the populations.  The parameters `dv` and `dt` control the fundamental tradeoff between the accuracy of the simulation and its execution time.  You might find it helpful to consider smaller values of these parameters at first, and then try reducing them once you have set the recurrent connection weights."
   ]
  },
  {
   "cell_type": "code",
   "execution_count": 1,
   "metadata": {
    "collapsed": false
   },
   "outputs": [
    {
     "data": {
      "text/html": [
       "<style>\n",
       ".output_wrapper, .output {\n",
       "    height:auto !important;\n",
       "    max-height:1000px;  /* your desired max-height here */\n",
       "}\n",
       ".output_scroll {\n",
       "    box-shadow:none !important;\n",
       "    webkit-box-shadow:none !important;\n",
       "}\n",
       "</style>"
      ],
      "text/plain": [
       "<IPython.core.display.HTML object>"
      ]
     },
     "metadata": {},
     "output_type": "display_data"
    }
   ],
   "source": [
    "%%html\n",
    "<style>\n",
    ".output_wrapper, .output {\n",
    "    height:auto !important;\n",
    "    max-height:1000px;  /* your desired max-height here */\n",
    "}\n",
    ".output_scroll {\n",
    "    box-shadow:none !important;\n",
    "    webkit-box-shadow:none !important;\n",
    "}\n",
    "</style>"
   ]
  },
  {
   "cell_type": "code",
   "execution_count": 2,
   "metadata": {
    "collapsed": false
   },
   "outputs": [],
   "source": [
    "%matplotlib notebook\n",
    "import dipde\n",
    "assert dipde.__version__ == '0.2.1'\n",
    "from IPython.display import display\n",
    "import matplotlib.pyplot as plt\n",
    "import ipywidgets as ipw\n",
    "import logging\n",
    "logging.disable(logging.CRITICAL)\n",
    "from dipde.interfaces.jupyter import ZMQIntSlider, wrap_widget, ProgressBar\n",
    "from IPython.display import display\n",
    "import time"
   ]
  },
  {
   "cell_type": "code",
   "execution_count": 4,
   "metadata": {
    "collapsed": false
   },
   "outputs": [
    {
     "data": {
      "application/javascript": [
       "/* Put everything inside the global mpl namespace */\n",
       "window.mpl = {};\n",
       "\n",
       "mpl.get_websocket_type = function() {\n",
       "    if (typeof(WebSocket) !== 'undefined') {\n",
       "        return WebSocket;\n",
       "    } else if (typeof(MozWebSocket) !== 'undefined') {\n",
       "        return MozWebSocket;\n",
       "    } else {\n",
       "        alert('Your browser does not have WebSocket support.' +\n",
       "              'Please try Chrome, Safari or Firefox ≥ 6. ' +\n",
       "              'Firefox 4 and 5 are also supported but you ' +\n",
       "              'have to enable WebSockets in about:config.');\n",
       "    };\n",
       "}\n",
       "\n",
       "mpl.figure = function(figure_id, websocket, ondownload, parent_element) {\n",
       "    this.id = figure_id;\n",
       "\n",
       "    this.ws = websocket;\n",
       "\n",
       "    this.supports_binary = (this.ws.binaryType != undefined);\n",
       "\n",
       "    if (!this.supports_binary) {\n",
       "        var warnings = document.getElementById(\"mpl-warnings\");\n",
       "        if (warnings) {\n",
       "            warnings.style.display = 'block';\n",
       "            warnings.textContent = (\n",
       "                \"This browser does not support binary websocket messages. \" +\n",
       "                    \"Performance may be slow.\");\n",
       "        }\n",
       "    }\n",
       "\n",
       "    this.imageObj = new Image();\n",
       "\n",
       "    this.context = undefined;\n",
       "    this.message = undefined;\n",
       "    this.canvas = undefined;\n",
       "    this.rubberband_canvas = undefined;\n",
       "    this.rubberband_context = undefined;\n",
       "    this.format_dropdown = undefined;\n",
       "\n",
       "    this.image_mode = 'full';\n",
       "\n",
       "    this.root = $('<div/>');\n",
       "    this._root_extra_style(this.root)\n",
       "    this.root.attr('style', 'display: inline-block');\n",
       "\n",
       "    $(parent_element).append(this.root);\n",
       "\n",
       "    this._init_header(this);\n",
       "    this._init_canvas(this);\n",
       "    this._init_toolbar(this);\n",
       "\n",
       "    var fig = this;\n",
       "\n",
       "    this.waiting = false;\n",
       "\n",
       "    this.ws.onopen =  function () {\n",
       "            fig.send_message(\"supports_binary\", {value: fig.supports_binary});\n",
       "            fig.send_message(\"send_image_mode\", {});\n",
       "            fig.send_message(\"refresh\", {});\n",
       "        }\n",
       "\n",
       "    this.imageObj.onload = function() {\n",
       "            if (fig.image_mode == 'full') {\n",
       "                // Full images could contain transparency (where diff images\n",
       "                // almost always do), so we need to clear the canvas so that\n",
       "                // there is no ghosting.\n",
       "                fig.context.clearRect(0, 0, fig.canvas.width, fig.canvas.height);\n",
       "            }\n",
       "            fig.context.drawImage(fig.imageObj, 0, 0);\n",
       "        };\n",
       "\n",
       "    this.imageObj.onunload = function() {\n",
       "        this.ws.close();\n",
       "    }\n",
       "\n",
       "    this.ws.onmessage = this._make_on_message_function(this);\n",
       "\n",
       "    this.ondownload = ondownload;\n",
       "}\n",
       "\n",
       "mpl.figure.prototype._init_header = function() {\n",
       "    var titlebar = $(\n",
       "        '<div class=\"ui-dialog-titlebar ui-widget-header ui-corner-all ' +\n",
       "        'ui-helper-clearfix\"/>');\n",
       "    var titletext = $(\n",
       "        '<div class=\"ui-dialog-title\" style=\"width: 100%; ' +\n",
       "        'text-align: center; padding: 3px;\"/>');\n",
       "    titlebar.append(titletext)\n",
       "    this.root.append(titlebar);\n",
       "    this.header = titletext[0];\n",
       "}\n",
       "\n",
       "\n",
       "\n",
       "mpl.figure.prototype._canvas_extra_style = function(canvas_div) {\n",
       "\n",
       "}\n",
       "\n",
       "\n",
       "mpl.figure.prototype._root_extra_style = function(canvas_div) {\n",
       "\n",
       "}\n",
       "\n",
       "mpl.figure.prototype._init_canvas = function() {\n",
       "    var fig = this;\n",
       "\n",
       "    var canvas_div = $('<div/>');\n",
       "\n",
       "    canvas_div.attr('style', 'position: relative; clear: both; outline: 0');\n",
       "\n",
       "    function canvas_keyboard_event(event) {\n",
       "        return fig.key_event(event, event['data']);\n",
       "    }\n",
       "\n",
       "    canvas_div.keydown('key_press', canvas_keyboard_event);\n",
       "    canvas_div.keyup('key_release', canvas_keyboard_event);\n",
       "    this.canvas_div = canvas_div\n",
       "    this._canvas_extra_style(canvas_div)\n",
       "    this.root.append(canvas_div);\n",
       "\n",
       "    var canvas = $('<canvas/>');\n",
       "    canvas.addClass('mpl-canvas');\n",
       "    canvas.attr('style', \"left: 0; top: 0; z-index: 0; outline: 0\")\n",
       "\n",
       "    this.canvas = canvas[0];\n",
       "    this.context = canvas[0].getContext(\"2d\");\n",
       "\n",
       "    var rubberband = $('<canvas/>');\n",
       "    rubberband.attr('style', \"position: absolute; left: 0; top: 0; z-index: 1;\")\n",
       "\n",
       "    var pass_mouse_events = true;\n",
       "\n",
       "    canvas_div.resizable({\n",
       "        start: function(event, ui) {\n",
       "            pass_mouse_events = false;\n",
       "        },\n",
       "        resize: function(event, ui) {\n",
       "            fig.request_resize(ui.size.width, ui.size.height);\n",
       "        },\n",
       "        stop: function(event, ui) {\n",
       "            pass_mouse_events = true;\n",
       "            fig.request_resize(ui.size.width, ui.size.height);\n",
       "        },\n",
       "    });\n",
       "\n",
       "    function mouse_event_fn(event) {\n",
       "        if (pass_mouse_events)\n",
       "            return fig.mouse_event(event, event['data']);\n",
       "    }\n",
       "\n",
       "    rubberband.mousedown('button_press', mouse_event_fn);\n",
       "    rubberband.mouseup('button_release', mouse_event_fn);\n",
       "    // Throttle sequential mouse events to 1 every 20ms.\n",
       "    rubberband.mousemove('motion_notify', mouse_event_fn);\n",
       "\n",
       "    rubberband.mouseenter('figure_enter', mouse_event_fn);\n",
       "    rubberband.mouseleave('figure_leave', mouse_event_fn);\n",
       "\n",
       "    canvas_div.on(\"wheel\", function (event) {\n",
       "        event = event.originalEvent;\n",
       "        event['data'] = 'scroll'\n",
       "        if (event.deltaY < 0) {\n",
       "            event.step = 1;\n",
       "        } else {\n",
       "            event.step = -1;\n",
       "        }\n",
       "        mouse_event_fn(event);\n",
       "    });\n",
       "\n",
       "    canvas_div.append(canvas);\n",
       "    canvas_div.append(rubberband);\n",
       "\n",
       "    this.rubberband = rubberband;\n",
       "    this.rubberband_canvas = rubberband[0];\n",
       "    this.rubberband_context = rubberband[0].getContext(\"2d\");\n",
       "    this.rubberband_context.strokeStyle = \"#000000\";\n",
       "\n",
       "    this._resize_canvas = function(width, height) {\n",
       "        // Keep the size of the canvas, canvas container, and rubber band\n",
       "        // canvas in synch.\n",
       "        canvas_div.css('width', width)\n",
       "        canvas_div.css('height', height)\n",
       "\n",
       "        canvas.attr('width', width);\n",
       "        canvas.attr('height', height);\n",
       "\n",
       "        rubberband.attr('width', width);\n",
       "        rubberband.attr('height', height);\n",
       "    }\n",
       "\n",
       "    // Set the figure to an initial 600x600px, this will subsequently be updated\n",
       "    // upon first draw.\n",
       "    this._resize_canvas(600, 600);\n",
       "\n",
       "    // Disable right mouse context menu.\n",
       "    $(this.rubberband_canvas).bind(\"contextmenu\",function(e){\n",
       "        return false;\n",
       "    });\n",
       "\n",
       "    function set_focus () {\n",
       "        canvas.focus();\n",
       "        canvas_div.focus();\n",
       "    }\n",
       "\n",
       "    window.setTimeout(set_focus, 100);\n",
       "}\n",
       "\n",
       "mpl.figure.prototype._init_toolbar = function() {\n",
       "    var fig = this;\n",
       "\n",
       "    var nav_element = $('<div/>')\n",
       "    nav_element.attr('style', 'width: 100%');\n",
       "    this.root.append(nav_element);\n",
       "\n",
       "    // Define a callback function for later on.\n",
       "    function toolbar_event(event) {\n",
       "        return fig.toolbar_button_onclick(event['data']);\n",
       "    }\n",
       "    function toolbar_mouse_event(event) {\n",
       "        return fig.toolbar_button_onmouseover(event['data']);\n",
       "    }\n",
       "\n",
       "    for(var toolbar_ind in mpl.toolbar_items) {\n",
       "        var name = mpl.toolbar_items[toolbar_ind][0];\n",
       "        var tooltip = mpl.toolbar_items[toolbar_ind][1];\n",
       "        var image = mpl.toolbar_items[toolbar_ind][2];\n",
       "        var method_name = mpl.toolbar_items[toolbar_ind][3];\n",
       "\n",
       "        if (!name) {\n",
       "            // put a spacer in here.\n",
       "            continue;\n",
       "        }\n",
       "        var button = $('<button/>');\n",
       "        button.addClass('ui-button ui-widget ui-state-default ui-corner-all ' +\n",
       "                        'ui-button-icon-only');\n",
       "        button.attr('role', 'button');\n",
       "        button.attr('aria-disabled', 'false');\n",
       "        button.click(method_name, toolbar_event);\n",
       "        button.mouseover(tooltip, toolbar_mouse_event);\n",
       "\n",
       "        var icon_img = $('<span/>');\n",
       "        icon_img.addClass('ui-button-icon-primary ui-icon');\n",
       "        icon_img.addClass(image);\n",
       "        icon_img.addClass('ui-corner-all');\n",
       "\n",
       "        var tooltip_span = $('<span/>');\n",
       "        tooltip_span.addClass('ui-button-text');\n",
       "        tooltip_span.html(tooltip);\n",
       "\n",
       "        button.append(icon_img);\n",
       "        button.append(tooltip_span);\n",
       "\n",
       "        nav_element.append(button);\n",
       "    }\n",
       "\n",
       "    var fmt_picker_span = $('<span/>');\n",
       "\n",
       "    var fmt_picker = $('<select/>');\n",
       "    fmt_picker.addClass('mpl-toolbar-option ui-widget ui-widget-content');\n",
       "    fmt_picker_span.append(fmt_picker);\n",
       "    nav_element.append(fmt_picker_span);\n",
       "    this.format_dropdown = fmt_picker[0];\n",
       "\n",
       "    for (var ind in mpl.extensions) {\n",
       "        var fmt = mpl.extensions[ind];\n",
       "        var option = $(\n",
       "            '<option/>', {selected: fmt === mpl.default_extension}).html(fmt);\n",
       "        fmt_picker.append(option)\n",
       "    }\n",
       "\n",
       "    // Add hover states to the ui-buttons\n",
       "    $( \".ui-button\" ).hover(\n",
       "        function() { $(this).addClass(\"ui-state-hover\");},\n",
       "        function() { $(this).removeClass(\"ui-state-hover\");}\n",
       "    );\n",
       "\n",
       "    var status_bar = $('<span class=\"mpl-message\"/>');\n",
       "    nav_element.append(status_bar);\n",
       "    this.message = status_bar[0];\n",
       "}\n",
       "\n",
       "mpl.figure.prototype.request_resize = function(x_pixels, y_pixels) {\n",
       "    // Request matplotlib to resize the figure. Matplotlib will then trigger a resize in the client,\n",
       "    // which will in turn request a refresh of the image.\n",
       "    this.send_message('resize', {'width': x_pixels, 'height': y_pixels});\n",
       "}\n",
       "\n",
       "mpl.figure.prototype.send_message = function(type, properties) {\n",
       "    properties['type'] = type;\n",
       "    properties['figure_id'] = this.id;\n",
       "    this.ws.send(JSON.stringify(properties));\n",
       "}\n",
       "\n",
       "mpl.figure.prototype.send_draw_message = function() {\n",
       "    if (!this.waiting) {\n",
       "        this.waiting = true;\n",
       "        this.ws.send(JSON.stringify({type: \"draw\", figure_id: this.id}));\n",
       "    }\n",
       "}\n",
       "\n",
       "\n",
       "mpl.figure.prototype.handle_save = function(fig, msg) {\n",
       "    var format_dropdown = fig.format_dropdown;\n",
       "    var format = format_dropdown.options[format_dropdown.selectedIndex].value;\n",
       "    fig.ondownload(fig, format);\n",
       "}\n",
       "\n",
       "\n",
       "mpl.figure.prototype.handle_resize = function(fig, msg) {\n",
       "    var size = msg['size'];\n",
       "    if (size[0] != fig.canvas.width || size[1] != fig.canvas.height) {\n",
       "        fig._resize_canvas(size[0], size[1]);\n",
       "        fig.send_message(\"refresh\", {});\n",
       "    };\n",
       "}\n",
       "\n",
       "mpl.figure.prototype.handle_rubberband = function(fig, msg) {\n",
       "    var x0 = msg['x0'];\n",
       "    var y0 = fig.canvas.height - msg['y0'];\n",
       "    var x1 = msg['x1'];\n",
       "    var y1 = fig.canvas.height - msg['y1'];\n",
       "    x0 = Math.floor(x0) + 0.5;\n",
       "    y0 = Math.floor(y0) + 0.5;\n",
       "    x1 = Math.floor(x1) + 0.5;\n",
       "    y1 = Math.floor(y1) + 0.5;\n",
       "    var min_x = Math.min(x0, x1);\n",
       "    var min_y = Math.min(y0, y1);\n",
       "    var width = Math.abs(x1 - x0);\n",
       "    var height = Math.abs(y1 - y0);\n",
       "\n",
       "    fig.rubberband_context.clearRect(\n",
       "        0, 0, fig.canvas.width, fig.canvas.height);\n",
       "\n",
       "    fig.rubberband_context.strokeRect(min_x, min_y, width, height);\n",
       "}\n",
       "\n",
       "mpl.figure.prototype.handle_figure_label = function(fig, msg) {\n",
       "    // Updates the figure title.\n",
       "    fig.header.textContent = msg['label'];\n",
       "}\n",
       "\n",
       "mpl.figure.prototype.handle_cursor = function(fig, msg) {\n",
       "    var cursor = msg['cursor'];\n",
       "    switch(cursor)\n",
       "    {\n",
       "    case 0:\n",
       "        cursor = 'pointer';\n",
       "        break;\n",
       "    case 1:\n",
       "        cursor = 'default';\n",
       "        break;\n",
       "    case 2:\n",
       "        cursor = 'crosshair';\n",
       "        break;\n",
       "    case 3:\n",
       "        cursor = 'move';\n",
       "        break;\n",
       "    }\n",
       "    fig.rubberband_canvas.style.cursor = cursor;\n",
       "}\n",
       "\n",
       "mpl.figure.prototype.handle_message = function(fig, msg) {\n",
       "    fig.message.textContent = msg['message'];\n",
       "}\n",
       "\n",
       "mpl.figure.prototype.handle_draw = function(fig, msg) {\n",
       "    // Request the server to send over a new figure.\n",
       "    fig.send_draw_message();\n",
       "}\n",
       "\n",
       "mpl.figure.prototype.handle_image_mode = function(fig, msg) {\n",
       "    fig.image_mode = msg['mode'];\n",
       "}\n",
       "\n",
       "mpl.figure.prototype.updated_canvas_event = function() {\n",
       "    // Called whenever the canvas gets updated.\n",
       "    this.send_message(\"ack\", {});\n",
       "}\n",
       "\n",
       "// A function to construct a web socket function for onmessage handling.\n",
       "// Called in the figure constructor.\n",
       "mpl.figure.prototype._make_on_message_function = function(fig) {\n",
       "    return function socket_on_message(evt) {\n",
       "        if (evt.data instanceof Blob) {\n",
       "            /* FIXME: We get \"Resource interpreted as Image but\n",
       "             * transferred with MIME type text/plain:\" errors on\n",
       "             * Chrome.  But how to set the MIME type?  It doesn't seem\n",
       "             * to be part of the websocket stream */\n",
       "            evt.data.type = \"image/png\";\n",
       "\n",
       "            /* Free the memory for the previous frames */\n",
       "            if (fig.imageObj.src) {\n",
       "                (window.URL || window.webkitURL).revokeObjectURL(\n",
       "                    fig.imageObj.src);\n",
       "            }\n",
       "\n",
       "            fig.imageObj.src = (window.URL || window.webkitURL).createObjectURL(\n",
       "                evt.data);\n",
       "            fig.updated_canvas_event();\n",
       "            fig.waiting = false;\n",
       "            return;\n",
       "        }\n",
       "        else if (typeof evt.data === 'string' && evt.data.slice(0, 21) == \"data:image/png;base64\") {\n",
       "            fig.imageObj.src = evt.data;\n",
       "            fig.updated_canvas_event();\n",
       "            fig.waiting = false;\n",
       "            return;\n",
       "        }\n",
       "\n",
       "        var msg = JSON.parse(evt.data);\n",
       "        var msg_type = msg['type'];\n",
       "\n",
       "        // Call the  \"handle_{type}\" callback, which takes\n",
       "        // the figure and JSON message as its only arguments.\n",
       "        try {\n",
       "            var callback = fig[\"handle_\" + msg_type];\n",
       "        } catch (e) {\n",
       "            console.log(\"No handler for the '\" + msg_type + \"' message type: \", msg);\n",
       "            return;\n",
       "        }\n",
       "\n",
       "        if (callback) {\n",
       "            try {\n",
       "                // console.log(\"Handling '\" + msg_type + \"' message: \", msg);\n",
       "                callback(fig, msg);\n",
       "            } catch (e) {\n",
       "                console.log(\"Exception inside the 'handler_\" + msg_type + \"' callback:\", e, e.stack, msg);\n",
       "            }\n",
       "        }\n",
       "    };\n",
       "}\n",
       "\n",
       "// from http://stackoverflow.com/questions/1114465/getting-mouse-location-in-canvas\n",
       "mpl.findpos = function(e) {\n",
       "    //this section is from http://www.quirksmode.org/js/events_properties.html\n",
       "    var targ;\n",
       "    if (!e)\n",
       "        e = window.event;\n",
       "    if (e.target)\n",
       "        targ = e.target;\n",
       "    else if (e.srcElement)\n",
       "        targ = e.srcElement;\n",
       "    if (targ.nodeType == 3) // defeat Safari bug\n",
       "        targ = targ.parentNode;\n",
       "\n",
       "    // jQuery normalizes the pageX and pageY\n",
       "    // pageX,Y are the mouse positions relative to the document\n",
       "    // offset() returns the position of the element relative to the document\n",
       "    var x = e.pageX - $(targ).offset().left;\n",
       "    var y = e.pageY - $(targ).offset().top;\n",
       "\n",
       "    return {\"x\": x, \"y\": y};\n",
       "};\n",
       "\n",
       "/*\n",
       " * return a copy of an object with only non-object keys\n",
       " * we need this to avoid circular references\n",
       " * http://stackoverflow.com/a/24161582/3208463\n",
       " */\n",
       "function simpleKeys (original) {\n",
       "  return Object.keys(original).reduce(function (obj, key) {\n",
       "    if (typeof original[key] !== 'object')\n",
       "        obj[key] = original[key]\n",
       "    return obj;\n",
       "  }, {});\n",
       "}\n",
       "\n",
       "mpl.figure.prototype.mouse_event = function(event, name) {\n",
       "    var canvas_pos = mpl.findpos(event)\n",
       "\n",
       "    if (name === 'button_press')\n",
       "    {\n",
       "        this.canvas.focus();\n",
       "        this.canvas_div.focus();\n",
       "    }\n",
       "\n",
       "    var x = canvas_pos.x;\n",
       "    var y = canvas_pos.y;\n",
       "\n",
       "    this.send_message(name, {x: x, y: y, button: event.button,\n",
       "                             step: event.step,\n",
       "                             guiEvent: simpleKeys(event)});\n",
       "\n",
       "    /* This prevents the web browser from automatically changing to\n",
       "     * the text insertion cursor when the button is pressed.  We want\n",
       "     * to control all of the cursor setting manually through the\n",
       "     * 'cursor' event from matplotlib */\n",
       "    event.preventDefault();\n",
       "    return false;\n",
       "}\n",
       "\n",
       "mpl.figure.prototype._key_event_extra = function(event, name) {\n",
       "    // Handle any extra behaviour associated with a key event\n",
       "}\n",
       "\n",
       "mpl.figure.prototype.key_event = function(event, name) {\n",
       "\n",
       "    // Prevent repeat events\n",
       "    if (name == 'key_press')\n",
       "    {\n",
       "        if (event.which === this._key)\n",
       "            return;\n",
       "        else\n",
       "            this._key = event.which;\n",
       "    }\n",
       "    if (name == 'key_release')\n",
       "        this._key = null;\n",
       "\n",
       "    var value = '';\n",
       "    if (event.ctrlKey && event.which != 17)\n",
       "        value += \"ctrl+\";\n",
       "    if (event.altKey && event.which != 18)\n",
       "        value += \"alt+\";\n",
       "    if (event.shiftKey && event.which != 16)\n",
       "        value += \"shift+\";\n",
       "\n",
       "    value += 'k';\n",
       "    value += event.which.toString();\n",
       "\n",
       "    this._key_event_extra(event, name);\n",
       "\n",
       "    this.send_message(name, {key: value,\n",
       "                             guiEvent: simpleKeys(event)});\n",
       "    return false;\n",
       "}\n",
       "\n",
       "mpl.figure.prototype.toolbar_button_onclick = function(name) {\n",
       "    if (name == 'download') {\n",
       "        this.handle_save(this, null);\n",
       "    } else {\n",
       "        this.send_message(\"toolbar_button\", {name: name});\n",
       "    }\n",
       "};\n",
       "\n",
       "mpl.figure.prototype.toolbar_button_onmouseover = function(tooltip) {\n",
       "    this.message.textContent = tooltip;\n",
       "};\n",
       "mpl.toolbar_items = [[\"Home\", \"Reset original view\", \"fa fa-home icon-home\", \"home\"], [\"Back\", \"Back to  previous view\", \"fa fa-arrow-left icon-arrow-left\", \"back\"], [\"Forward\", \"Forward to next view\", \"fa fa-arrow-right icon-arrow-right\", \"forward\"], [\"\", \"\", \"\", \"\"], [\"Pan\", \"Pan axes with left mouse, zoom with right\", \"fa fa-arrows icon-move\", \"pan\"], [\"Zoom\", \"Zoom to rectangle\", \"fa fa-square-o icon-check-empty\", \"zoom\"], [\"\", \"\", \"\", \"\"], [\"Download\", \"Download plot\", \"fa fa-floppy-o icon-save\", \"download\"]];\n",
       "\n",
       "mpl.extensions = [\"eps\", \"jpeg\", \"pdf\", \"png\", \"ps\", \"raw\", \"svg\", \"tif\"];\n",
       "\n",
       "mpl.default_extension = \"png\";var comm_websocket_adapter = function(comm) {\n",
       "    // Create a \"websocket\"-like object which calls the given IPython comm\n",
       "    // object with the appropriate methods. Currently this is a non binary\n",
       "    // socket, so there is still some room for performance tuning.\n",
       "    var ws = {};\n",
       "\n",
       "    ws.close = function() {\n",
       "        comm.close()\n",
       "    };\n",
       "    ws.send = function(m) {\n",
       "        //console.log('sending', m);\n",
       "        comm.send(m);\n",
       "    };\n",
       "    // Register the callback with on_msg.\n",
       "    comm.on_msg(function(msg) {\n",
       "        //console.log('receiving', msg['content']['data'], msg);\n",
       "        // Pass the mpl event to the overriden (by mpl) onmessage function.\n",
       "        ws.onmessage(msg['content']['data'])\n",
       "    });\n",
       "    return ws;\n",
       "}\n",
       "\n",
       "mpl.mpl_figure_comm = function(comm, msg) {\n",
       "    // This is the function which gets called when the mpl process\n",
       "    // starts-up an IPython Comm through the \"matplotlib\" channel.\n",
       "\n",
       "    var id = msg.content.data.id;\n",
       "    // Get hold of the div created by the display call when the Comm\n",
       "    // socket was opened in Python.\n",
       "    var element = $(\"#\" + id);\n",
       "    var ws_proxy = comm_websocket_adapter(comm)\n",
       "\n",
       "    function ondownload(figure, format) {\n",
       "        window.open(figure.imageObj.src);\n",
       "    }\n",
       "\n",
       "    var fig = new mpl.figure(id, ws_proxy,\n",
       "                           ondownload,\n",
       "                           element.get(0));\n",
       "\n",
       "    // Call onopen now - mpl needs it, as it is assuming we've passed it a real\n",
       "    // web socket which is closed, not our websocket->open comm proxy.\n",
       "    ws_proxy.onopen();\n",
       "\n",
       "    fig.parent_element = element.get(0);\n",
       "    fig.cell_info = mpl.find_output_cell(\"<div id='\" + id + \"'></div>\");\n",
       "    if (!fig.cell_info) {\n",
       "        console.error(\"Failed to find cell for figure\", id, fig);\n",
       "        return;\n",
       "    }\n",
       "\n",
       "    var output_index = fig.cell_info[2]\n",
       "    var cell = fig.cell_info[0];\n",
       "\n",
       "};\n",
       "\n",
       "mpl.figure.prototype.handle_close = function(fig, msg) {\n",
       "    fig.root.unbind('remove')\n",
       "\n",
       "    // Update the output cell to use the data from the current canvas.\n",
       "    fig.push_to_output();\n",
       "    var dataURL = fig.canvas.toDataURL();\n",
       "    // Re-enable the keyboard manager in IPython - without this line, in FF,\n",
       "    // the notebook keyboard shortcuts fail.\n",
       "    IPython.keyboard_manager.enable()\n",
       "    $(fig.parent_element).html('<img src=\"' + dataURL + '\">');\n",
       "    fig.close_ws(fig, msg);\n",
       "}\n",
       "\n",
       "mpl.figure.prototype.close_ws = function(fig, msg){\n",
       "    fig.send_message('closing', msg);\n",
       "    // fig.ws.close()\n",
       "}\n",
       "\n",
       "mpl.figure.prototype.push_to_output = function(remove_interactive) {\n",
       "    // Turn the data on the canvas into data in the output cell.\n",
       "    var dataURL = this.canvas.toDataURL();\n",
       "    this.cell_info[1]['text/html'] = '<img src=\"' + dataURL + '\">';\n",
       "}\n",
       "\n",
       "mpl.figure.prototype.updated_canvas_event = function() {\n",
       "    // Tell IPython that the notebook contents must change.\n",
       "    IPython.notebook.set_dirty(true);\n",
       "    this.send_message(\"ack\", {});\n",
       "    var fig = this;\n",
       "    // Wait a second, then push the new image to the DOM so\n",
       "    // that it is saved nicely (might be nice to debounce this).\n",
       "    setTimeout(function () { fig.push_to_output() }, 1000);\n",
       "}\n",
       "\n",
       "mpl.figure.prototype._init_toolbar = function() {\n",
       "    var fig = this;\n",
       "\n",
       "    var nav_element = $('<div/>')\n",
       "    nav_element.attr('style', 'width: 100%');\n",
       "    this.root.append(nav_element);\n",
       "\n",
       "    // Define a callback function for later on.\n",
       "    function toolbar_event(event) {\n",
       "        return fig.toolbar_button_onclick(event['data']);\n",
       "    }\n",
       "    function toolbar_mouse_event(event) {\n",
       "        return fig.toolbar_button_onmouseover(event['data']);\n",
       "    }\n",
       "\n",
       "    for(var toolbar_ind in mpl.toolbar_items){\n",
       "        var name = mpl.toolbar_items[toolbar_ind][0];\n",
       "        var tooltip = mpl.toolbar_items[toolbar_ind][1];\n",
       "        var image = mpl.toolbar_items[toolbar_ind][2];\n",
       "        var method_name = mpl.toolbar_items[toolbar_ind][3];\n",
       "\n",
       "        if (!name) { continue; };\n",
       "\n",
       "        var button = $('<button class=\"btn btn-default\" href=\"#\" title=\"' + name + '\"><i class=\"fa ' + image + ' fa-lg\"></i></button>');\n",
       "        button.click(method_name, toolbar_event);\n",
       "        button.mouseover(tooltip, toolbar_mouse_event);\n",
       "        nav_element.append(button);\n",
       "    }\n",
       "\n",
       "    // Add the status bar.\n",
       "    var status_bar = $('<span class=\"mpl-message\" style=\"text-align:right; float: right;\"/>');\n",
       "    nav_element.append(status_bar);\n",
       "    this.message = status_bar[0];\n",
       "\n",
       "    // Add the close button to the window.\n",
       "    var buttongrp = $('<div class=\"btn-group inline pull-right\"></div>');\n",
       "    var button = $('<button class=\"btn btn-mini btn-primary\" href=\"#\" title=\"Stop Interaction\"><i class=\"fa fa-power-off icon-remove icon-large\"></i></button>');\n",
       "    button.click(function (evt) { fig.handle_close(fig, {}); } );\n",
       "    button.mouseover('Stop Interaction', toolbar_mouse_event);\n",
       "    buttongrp.append(button);\n",
       "    var titlebar = this.root.find($('.ui-dialog-titlebar'));\n",
       "    titlebar.prepend(buttongrp);\n",
       "}\n",
       "\n",
       "mpl.figure.prototype._root_extra_style = function(el){\n",
       "    var fig = this\n",
       "    el.on(\"remove\", function(){\n",
       "\tfig.close_ws(fig, {});\n",
       "    });\n",
       "}\n",
       "\n",
       "mpl.figure.prototype._canvas_extra_style = function(el){\n",
       "    // this is important to make the div 'focusable\n",
       "    el.attr('tabindex', 0)\n",
       "    // reach out to IPython and tell the keyboard manager to turn it's self\n",
       "    // off when our div gets focus\n",
       "\n",
       "    // location in version 3\n",
       "    if (IPython.notebook.keyboard_manager) {\n",
       "        IPython.notebook.keyboard_manager.register_events(el);\n",
       "    }\n",
       "    else {\n",
       "        // location in version 2\n",
       "        IPython.keyboard_manager.register_events(el);\n",
       "    }\n",
       "\n",
       "}\n",
       "\n",
       "mpl.figure.prototype._key_event_extra = function(event, name) {\n",
       "    var manager = IPython.notebook.keyboard_manager;\n",
       "    if (!manager)\n",
       "        manager = IPython.keyboard_manager;\n",
       "\n",
       "    // Check for shift+enter\n",
       "    if (event.shiftKey && event.which == 13) {\n",
       "        this.canvas_div.blur();\n",
       "        event.shiftKey = false;\n",
       "        // Send a \"J\" for go to next cell\n",
       "        event.which = 74;\n",
       "        event.keyCode = 74;\n",
       "        manager.command_mode();\n",
       "        manager.handle_keydown(event);\n",
       "    }\n",
       "}\n",
       "\n",
       "mpl.figure.prototype.handle_save = function(fig, msg) {\n",
       "    fig.ondownload(fig, null);\n",
       "}\n",
       "\n",
       "\n",
       "mpl.find_output_cell = function(html_output) {\n",
       "    // Return the cell and output element which can be found *uniquely* in the notebook.\n",
       "    // Note - this is a bit hacky, but it is done because the \"notebook_saving.Notebook\"\n",
       "    // IPython event is triggered only after the cells have been serialised, which for\n",
       "    // our purposes (turning an active figure into a static one), is too late.\n",
       "    var cells = IPython.notebook.get_cells();\n",
       "    var ncells = cells.length;\n",
       "    for (var i=0; i<ncells; i++) {\n",
       "        var cell = cells[i];\n",
       "        if (cell.cell_type === 'code'){\n",
       "            for (var j=0; j<cell.output_area.outputs.length; j++) {\n",
       "                var data = cell.output_area.outputs[j];\n",
       "                if (data.data) {\n",
       "                    // IPython >= 3 moved mimebundle to data attribute of output\n",
       "                    data = data.data;\n",
       "                }\n",
       "                if (data['text/html'] == html_output) {\n",
       "                    return [cell, data, j];\n",
       "                }\n",
       "            }\n",
       "        }\n",
       "    }\n",
       "}\n",
       "\n",
       "// Register the function which deals with the matplotlib target/channel.\n",
       "// The kernel may be null if the page has been refreshed.\n",
       "if (IPython.notebook.kernel != null) {\n",
       "    IPython.notebook.kernel.comm_manager.register_target('matplotlib', mpl.mpl_figure_comm);\n",
       "}\n"
      ],
      "text/plain": [
       "<IPython.core.display.Javascript object>"
      ]
     },
     "metadata": {},
     "output_type": "display_data"
    },
    {
     "data": {
      "text/html": [
       "<img src=\"data:image/png;base64,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\">"
      ],
      "text/plain": [
       "<IPython.core.display.HTML object>"
      ]
     },
     "metadata": {},
     "output_type": "display_data"
    }
   ],
   "source": [
    "t0 = 0.\n",
    "dv = .001\n",
    "dt = .001\n",
    "v_min = -.01\n",
    "v_max = .02\n",
    "tf = .5\n",
    "tau_m=.02\n",
    "weights=.001\n",
    "bgfr = 800\n",
    "window_size = .05\n",
    "\n",
    "def slow_callback(n):\n",
    "    time.sleep(.05)\n",
    "\n",
    "b = dipde.ExternalPopulation(bgfr)\n",
    "ie = dipde.InternalPopulation(v_min=v_min, tau_m=tau_m, v_max=v_max, dv=dv, update_method='approx')\n",
    "ii = dipde.InternalPopulation(v_min=v_min, tau_m=tau_m, v_max=v_max, dv=dv, update_method='approx')\n",
    "\n",
    "b_ie = dipde.Connection(b, ie, 1, weights=weights)\n",
    "b_ii = dipde.Connection(b, ii, 1, weights=weights)\n",
    "\n",
    "initial_nsyn = 25\n",
    "max_nsyn = 2*initial_nsyn\n",
    "ie_ie = wrap_widget(dipde.Connection(ie, ie, 1, weights=weights), ZMQIntSlider(5556, display=True, value=initial_nsyn, min=1, max=max_nsyn, continuous_update=False, description='ee'), 'nsyn') \n",
    "ie_ii = wrap_widget(dipde.Connection(ie, ii, 1, weights=weights), ZMQIntSlider(5557, display=True, value=initial_nsyn, min=1, max=max_nsyn, continuous_update=False, description='ei'), 'nsyn') \n",
    "ii_ie = wrap_widget(dipde.Connection(ii, ie, 1, weights=-weights), ZMQIntSlider(5558, display=True, value=initial_nsyn, min=1, max=max_nsyn, continuous_update=False, description='ie'), 'nsyn') \n",
    "ii_ii = wrap_widget(dipde.Connection(ii, ii, 1, weights=-weights), ZMQIntSlider(5559, display=True, value=initial_nsyn, min=1, max=max_nsyn, continuous_update=False, description='ii'), 'nsyn') \n",
    "\n",
    "\n",
    "\n",
    "network = dipde.Network([ie, ii, b], [b_ie, b_ii, ie_ie, ie_ii, ii_ie, ii_ii], update_callback=slow_callback, progress=ProgressBar())\n",
    "\n",
    "fig, axes = plt.subplots(1,2, figsize=(15,5))\n",
    "ie.plot(ax=axes[0], ylim=(0,30), color='r', show=False, title='Firing Rate: Excitatory', xlim=(0,window_size))\n",
    "ii.plot(ax=axes[1], ylim=(0,30), color='b', show=True, title='Firing Rate: Inhibitory', xlim=(0,window_size))\n",
    "\n",
    "def plot_callback(s):\n",
    "    \n",
    "    for pi in [0,1]:\n",
    "    \n",
    "        p = s.network.population_list[pi]\n",
    "        ax = axes[pi]\n",
    "        window_points = int(window_size/dt)\n",
    "\n",
    "        if len(p.t_record) < window_points:\n",
    "\n",
    "            t_vals = p.t_record\n",
    "            y_vals = p.firing_rate_record\n",
    "        else:\n",
    "            t_vals = p.t_record[-window_points:]\n",
    "            y_vals = p.firing_rate_record[-window_points:]\n",
    "\n",
    "        ax.lines[0].set_xdata(t_vals)\n",
    "        ax.lines[0].set_ydata(y_vals)\n",
    "        if t_vals[-1] < window_size:\n",
    "            t_max = window_size\n",
    "        else:\n",
    "            t_max = t_vals[-1]*1.05\n",
    "\n",
    "        ax.set_xlim((t_vals[0],t_max))\n",
    "        ax.set_ylim((-.1,max(20, max(y_vals)*1.1)))\n",
    "\n",
    "    fig.canvas.draw()\n",
    "\n",
    "\n",
    "simulation_configuration = dipde.SimulationConfiguration(dt, tf, t0=t0, checkpoint_period=.2)\n",
    "simulation = dipde.Simulation(network=network, simulation_configuration=simulation_configuration, checkpoint_callback=plot_callback)\n",
    "simulation.start()\n",
    "\n"
   ]
  },
  {
   "cell_type": "code",
   "execution_count": null,
   "metadata": {
    "collapsed": true
   },
   "outputs": [],
   "source": []
  },
  {
   "cell_type": "code",
   "execution_count": null,
   "metadata": {
    "collapsed": true
   },
   "outputs": [],
   "source": []
  }
 ],
 "metadata": {
  "anaconda-cloud": {},
  "kernelspec": {
   "display_name": "Python [default]",
   "language": "python",
   "name": "python2"
  },
  "language_info": {
   "codemirror_mode": {
    "name": "ipython",
    "version": 2
   },
   "file_extension": ".py",
   "mimetype": "text/x-python",
   "name": "python",
   "nbconvert_exporter": "python",
   "pygments_lexer": "ipython2",
   "version": "2.7.12"
  },
  "widgets": {
   "state": {
    "025d77e0377442c788873e4f141e5525": {
     "views": [
      {
       "cell_index": 4
      }
     ]
    },
    "02b1e8f4e1ad45b980dab9318e8c4c50": {
     "views": [
      {
       "cell_index": 4
      }
     ]
    },
    "0614cc8446a8430dbb54e3ddafa300dc": {
     "views": [
      {
       "cell_index": 4
      }
     ]
    },
    "0bae51d2ceeb42a3b7638b22829ef22e": {
     "views": [
      {
       "cell_index": 4
      }
     ]
    },
    "0f33ed96a8394c41aa8f5a1af5504e71": {
     "views": [
      {
       "cell_index": 4
      }
     ]
    },
    "18e25cf6728e4fb0bd981b9e2dea2207": {
     "views": [
      {
       "cell_index": 4
      }
     ]
    },
    "1c9d579df9f14a35ae8b78c38b47bb0b": {
     "views": [
      {
       "cell_index": 4
      }
     ]
    },
    "270ffee3976147d4b0728eb998ff23ca": {
     "views": [
      {
       "cell_index": 4
      }
     ]
    },
    "28cd443603e445de8ce1c650fdd3cc62": {
     "views": [
      {
       "cell_index": 4
      }
     ]
    },
    "28df441ffa934937b7218762d2b26118": {
     "views": [
      {
       "cell_index": 4
      }
     ]
    },
    "2cb43d7e951446cba3dcc381c9b3e1d9": {
     "views": [
      {
       "cell_index": 4
      }
     ]
    },
    "303286983d824d18a641d5d7bd37635c": {
     "views": [
      {
       "cell_index": 4
      }
     ]
    },
    "330c2ad4671b442b8a5f137897012e8e": {
     "views": [
      {
       "cell_index": 4
      }
     ]
    },
    "331d31982f904b93b49c952ba526b956": {
     "views": [
      {
       "cell_index": 4
      }
     ]
    },
    "34b10902b3084b6c81b86f43235d282b": {
     "views": [
      {
       "cell_index": 4
      }
     ]
    },
    "3908d3798bef4462aa0f56a0d69a316b": {
     "views": [
      {
       "cell_index": 4
      }
     ]
    },
    "3b41c69a9fb84096b2a344382ad36dba": {
     "views": [
      {
       "cell_index": 4
      }
     ]
    },
    "45b25a97cde54c30b8cfe3142f13503f": {
     "views": [
      {
       "cell_index": 4
      }
     ]
    },
    "4b3dda659c44439a9920a29245dde27d": {
     "views": [
      {
       "cell_index": 4
      }
     ]
    },
    "50cb711c4d82440fbc6bb85f5e865a63": {
     "views": [
      {
       "cell_index": 4
      }
     ]
    },
    "56ff8cfc01124adbb510fd573bd33d26": {
     "views": [
      {
       "cell_index": 4
      }
     ]
    },
    "59a9ce9c27a043d3a416439877f1f98e": {
     "views": [
      {
       "cell_index": 4
      }
     ]
    },
    "6688fbb7e9dd4e9c9b080ec134c04a3f": {
     "views": [
      {
       "cell_index": 4
      }
     ]
    },
    "6879a210aa5c4489a985c35e095317a2": {
     "views": [
      {
       "cell_index": 4
      }
     ]
    },
    "69dcdf995bd1415bae4f09892bfefdac": {
     "views": [
      {
       "cell_index": 4
      }
     ]
    },
    "69e7f2f9ffdb43d0991c22e556cdaedd": {
     "views": [
      {
       "cell_index": 4
      }
     ]
    },
    "6fbb3753ffff4ed9bd0de8646bf6b2c5": {
     "views": [
      {
       "cell_index": 4
      }
     ]
    },
    "838a4aa5adf146c590b36a4ff1f10168": {
     "views": [
      {
       "cell_index": 4
      }
     ]
    },
    "88a01a405e5d40dbb8ab20b6e98da9de": {
     "views": [
      {
       "cell_index": 4
      }
     ]
    },
    "990c73732168412e8b31d06535d3ab17": {
     "views": [
      {
       "cell_index": 4
      }
     ]
    },
    "9b15757303a64b0c839b17059872548e": {
     "views": [
      {
       "cell_index": 4
      }
     ]
    },
    "a4874794ba1843268363e2cb896c6a8a": {
     "views": [
      {
       "cell_index": 4
      }
     ]
    },
    "ad2eafbbf5d3407ca184f7b700715465": {
     "views": [
      {
       "cell_index": 4
      }
     ]
    },
    "b3e89bc15083436f87dff5ddc8b2afb9": {
     "views": [
      {
       "cell_index": 4
      }
     ]
    },
    "bae4ca33e0474f09b863306731e810ef": {
     "views": [
      {
       "cell_index": 4
      }
     ]
    },
    "bbb2feca18ef4762a33bb6490fde9333": {
     "views": [
      {
       "cell_index": 4
      }
     ]
    },
    "c075fd4ea1d647d1bca35d18c3971a72": {
     "views": [
      {
       "cell_index": 4
      }
     ]
    },
    "c23c3cb17ac94a2c93775f58fa0e0c7a": {
     "views": [
      {
       "cell_index": 4
      }
     ]
    },
    "c3fcc0621b3a4a84bb229bfd58fdbcc1": {
     "views": [
      {
       "cell_index": 4
      }
     ]
    },
    "c79c5ded81f3451386b5a726de5bbb56": {
     "views": [
      {
       "cell_index": 4
      }
     ]
    },
    "cdc34849d0ce46d785e05e2e5fc7b672": {
     "views": [
      {
       "cell_index": 4
      }
     ]
    },
    "d032762062b146f4a0f5e8b18bf293cf": {
     "views": [
      {
       "cell_index": 4
      }
     ]
    },
    "d7247b7367b84d11b29d6ca984c0592e": {
     "views": [
      {
       "cell_index": 4
      }
     ]
    },
    "dc98528f31ed4bea80c59c3af5e99277": {
     "views": [
      {
       "cell_index": 4
      }
     ]
    },
    "e8655b693c6e479b9868a635c235b5f6": {
     "views": [
      {
       "cell_index": 4
      }
     ]
    },
    "ef07fdcd638e4c5c9926f31d9338c0fb": {
     "views": [
      {
       "cell_index": 4
      }
     ]
    },
    "f0411199f58442ba87203f0e7e5ec368": {
     "views": [
      {
       "cell_index": 4
      }
     ]
    },
    "f153e373aeea4f48a138a25e4feeefb8": {
     "views": [
      {
       "cell_index": 4
      }
     ]
    },
    "fe5fb1296981486a8543833e24d57e83": {
     "views": [
      {
       "cell_index": 4
      }
     ]
    }
   },
   "version": "1.2.0"
  }
 },
 "nbformat": 4,
 "nbformat_minor": 0
}
