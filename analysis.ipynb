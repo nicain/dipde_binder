{
 "cells": [
  {
   "cell_type": "markdown",
   "metadata": {},
   "source": [
    "<div style=\"width:50%; float:left;\">\n",
    "    <img src=\"support_files/AIBS_banner.png\" width=\"430\" align=\"left\">\n",
    "</div>\n",
    "\n",
    "<div style=\"width:50%; float:right;\">\n",
    "    <img src=\"support_files/Dipde_Nick_final.png\" width=\"100\" height=\"100\" align=\"right\">\n",
    "</div>\n",
    "\n",
    "<div style=\"width:100%; float:left;\">\n",
    "    <hr>\n",
    "</div>\n",
    "\n"
   ]
  },
  {
   "cell_type": "markdown",
   "metadata": {},
   "source": [
    "<div style=\"border-left: 3px solid #000; padding: 1px; padding-left: 10px; background: #F0FAFF; \">\n",
    "<h1>Example: Analysis</h1>\n",
    "<p> In this example, a single internal dipde population receives from a single external dipde population, and the simulation is run long enough (`t_max=.5`) to reach a steady-state.  The value of `dv` used here is unrealistically large, but is chosen to help make intuitive plots of the flux matrices."
   ]
  },
  {
   "cell_type": "code",
   "execution_count": 1,
   "metadata": {
    "collapsed": false
   },
   "outputs": [],
   "source": [
    "%matplotlib inline\n",
    "import scipy.sparse.linalg as spla\n",
    "import numpy as np\n",
    "import dipde\n",
    "assert dipde.__version__ == '0.2.1'\n",
    "from dipde.interfaces.access_matrices import get_leak_matrix, get_connection_flux_matrices\n",
    "from IPython.display import display\n",
    "import matplotlib.pyplot as plt\n",
    "import ipywidgets as ipw\n",
    "import logging\n",
    "from IPython.display import HTML\n",
    "logging.disable(logging.CRITICAL)"
   ]
  },
  {
   "cell_type": "code",
   "execution_count": 2,
   "metadata": {
    "collapsed": false
   },
   "outputs": [
    {
     "data": {
      "image/png": "[encoded data removed]",
      "text/plain": [
       "<matplotlib.figure.Figure at 0x104c68290>"
      ]
     },
     "metadata": {},
     "output_type": "display_data"
    }
   ],
   "source": [
    "t0 = 0.\n",
    "dt = .002\n",
    "dv = .002\n",
    "v_max = .021\n",
    "tf = .5\n",
    "tau_m=.02\n",
    "weights={'distribution':'delta', 'loc':.008}\n",
    "bgfr = 100\n",
    "\n",
    "# Progress bar:\n",
    "fltp = ipw.FloatProgress(min=0, max=int((tf-t0)/dt))\n",
    "display(fltp)\n",
    "def update_callback(n):\n",
    "    fltp.value += 1\n",
    "\n",
    "b1 = dipde.ExternalPopulation(bgfr)\n",
    "i1 = dipde.InternalPopulation(v_min=-v_max, tau_m=tau_m, v_max=v_max, dv=dv, update_method='approx')\n",
    "b1_i1 = dipde.Connection(b1, i1, 1, weights=weights)\n",
    "network = dipde.Network([b1, i1], [b1_i1], update_callback=update_callback)\n",
    "network.run(t0=t0, tf=tf, dt=dt)\n",
    "plot = i1.plot(title='Firing Rate at steady-state: %5.5f' % i1.firing_rate_record[-1])"
   ]
  },
  {
   "cell_type": "markdown",
   "metadata": {},
   "source": [
    "<div style=\"border-left: 3px solid #000; padding: 1px; padding-left: 10px; background: #F0FAFF; \">\n",
    "<p> By using the `get_leak_matrix` and `get_connection_flux_matrices` API calls, we can access the flox matrices associated with the internal population and the connection that drives it."
   ]
  },
  {
   "cell_type": "code",
   "execution_count": 3,
   "metadata": {
    "collapsed": false
   },
   "outputs": [
    {
     "data": {
      "image/png": "[encoded data removed]",
      "text/plain": [
       "<matplotlib.figure.Figure at 0x118a9f8d0>"
      ]
     },
     "metadata": {},
     "output_type": "display_data"
    }
   ],
   "source": [
    "i1 = dipde.InternalPopulation(v_min=-v_max, tau_m=tau_m, v_max=v_max, dv=dv, update_method='approx')\n",
    "c1 = dipde.Connection(target=i1, nsyn=1, weights=weights)\n",
    "L = get_leak_matrix(i1, sparse=True)\n",
    "S, f = get_connection_flux_matrices(c1, sparse=True)\n",
    "\n",
    "fig, ax = plt.subplots(1, 2, figsize=(10,5))\n",
    "img_1 = ax[0].imshow(100*S.todense().T, interpolation='none')\n",
    "img_2 = ax[1].imshow(L.todense().T, interpolation='none')\n",
    "\n",
    "for ii in [0,1]:\n",
    "    ax[ii].set_xticks([0,5,10,15,20])\n",
    "    ax[ii].set_xticklabels([-.02, -.01, 0, .01, .02])\n",
    "    ax[ii].set_yticks([0,5,10,15,20])\n",
    "    ax[ii].set_yticklabels([-.02, -.01, 0, .01, .02])\n",
    "    ax[ii].set_xlabel('Voltage (Target)', )\n",
    "    ax[ii].xaxis.tick_top()\n",
    "    ax[ii].xaxis.set_label_position('top') \n",
    "ax[0].set_ylabel('Voltage (Source)')\n",
    "\n",
    "\n",
    "fig.subplots_adjust(right=0.8)\n",
    "cbar_ax = fig.add_axes([0.85, 0.2, 0.03, 0.62])\n",
    "fig.colorbar(img_2, cax=cbar_ax)\n",
    "plt.show()"
   ]
  },
  {
   "cell_type": "markdown",
   "metadata": {},
   "source": [
    "<div style=\"border-left: 3px solid #000; padding: 1px; padding-left: 10px; background: #F0FAFF; \">\n",
    "<p>We can use these matrices to compute the steady-state probability vector and firing rate without running the simulation. "
   ]
  },
  {
   "cell_type": "code",
   "execution_count": 4,
   "metadata": {
    "collapsed": false
   },
   "outputs": [
    {
     "name": "stdout",
     "output_type": "stream",
     "text": [
      "Steady-state prediction: 17.09165\n"
     ]
    }
   ],
   "source": [
    "M = L+100*S\n",
    "\n",
    "ew, ev = spla.eigs(M, k=1, sigma=0)\n",
    "ev = np.squeeze(np.real(ev))\n",
    "ev = ev/ev.sum()\n",
    "\n",
    "print 'Steady-state prediction: %5.5f' % ev.dot(100*f)"
   ]
  },
  {
   "cell_type": "markdown",
   "metadata": {},
   "source": [
    "<div style=\"border-left: 3px solid #000; padding: 1px; padding-left: 10px; background: #F0FAFF; \">\n",
    "<p>Next we consider two combinations of excitatory and inhibitory background drives that result in the same steady state firing rate.  However, the eigenvalues of the update operator has completely different eigenvalues.  As the total input to the system increases, the eigenvalue of largest modulus becomes increasingly negative; this would require decreasing `dt` in sthe simulation, to ensure numerical stability;  another approach is to use an implicit time-stepping scheme."
   ]
  },
  {
   "cell_type": "code",
   "execution_count": 5,
   "metadata": {
    "collapsed": false
   },
   "outputs": [
    {
     "data": {
      "image/png": "[encoded data removed]",
      "text/plain": [
       "<matplotlib.figure.Figure at 0x1154c37d0>"
      ]
     },
     "metadata": {},
     "output_type": "display_data"
    }
   ],
   "source": [
    "v_max = .03\n",
    "dv = .001\n",
    "\n",
    "fig, ax = plt.subplots(1, 2, figsize=(10,5))\n",
    "color_dict={0:'b', 1:'r'}\n",
    "for ii, (bgfr_e, bgfr_i) in enumerate([(8000, 926), (32000, 27342)]):\n",
    "\n",
    "    be = dipde.ExternalPopulation(bgfr_e)\n",
    "    bi = dipde.ExternalPopulation(bgfr_i)\n",
    "    i1 = dipde.InternalPopulation(v_min=-v_max, tau_m=tau_m, v_max=v_max, dv=dv, update_method='approx')\n",
    "    ce = dipde.Connection(source=be, target=i1, nsyn=1, weights=.000175)\n",
    "    ci = dipde.Connection(source=bi, target=i1, nsyn=1, weights=-.000175)\n",
    "\n",
    "    L = get_leak_matrix(i1, sparse=True)\n",
    "    Se, fe = get_connection_flux_matrices(ce, sparse=True)\n",
    "    Si, fi = get_connection_flux_matrices(ci, sparse=True)\n",
    "\n",
    "    M = L+bgfr_e*Se + bgfr_i*Si\n",
    "\n",
    "    ew, ev = spla.eigs(M, k=1, sigma=0)\n",
    "    ev = np.squeeze(np.real(ev))\n",
    "    ev = ev/ev.sum()\n",
    "\n",
    "    title = 'Steady-state (bgfr_e=%s, bgfr_i=%s):\\n %5.5f' % (bgfr_e, bgfr_i, ev.dot(bgfr_e*fe+bgfr_i*fi))\n",
    "\n",
    "    ew = spla.eigs(bgfr_e*Se+bgfr_i*Si+L, return_eigenvectors=False, k=(len(fe)-2))\n",
    "    ax[ii].plot(np.real(ew), np.imag(ew), '%s.' % color_dict[ii])\n",
    "    ax[ii].set_title(title)\n",
    "    ax[ii].set_xlim((-25000,0))\n",
    "    ax[ii].set_ylim((-600,600))"
   ]
  }
 ],
 "metadata": {
  "kernelspec": {
   "display_name": "Python 2",
   "language": "python",
   "name": "python2"
  },
  "language_info": {
   "codemirror_mode": {
    "name": "ipython",
    "version": 2
   },
   "file_extension": ".py",
   "mimetype": "text/x-python",
   "name": "python",
   "nbconvert_exporter": "python",
   "pygments_lexer": "ipython2",
   "version": "2.7.12"
  }
 },
 "nbformat": 4,
 "nbformat_minor": 0
}
