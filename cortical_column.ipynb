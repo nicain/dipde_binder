{
 "cells": [
  {
   "cell_type": "markdown",
   "metadata": {},
   "source": [
    "<div style=\"width:50%; float:left;\">\n",
    "    <img src=\"support_files/AIBS_banner.png\" width=\"430\" align=\"left\">\n",
    "</div>\n",
    "\n",
    "<div style=\"width:50%; float:right;\">\n",
    "    <img src=\"support_files/Dipde_Nick_final.png\" width=\"100\" height=\"100\" align=\"right\">\n",
    "</div>\n",
    "\n",
    "<div style=\"width:100%; float:left;\">\n",
    "    <hr>\n",
    "</div>\n",
    "\n"
   ]
  },
  {
   "cell_type": "markdown",
   "metadata": {},
   "source": [
    "<div style=\"border-left: 3px solid #000; padding: 1px; padding-left: 10px; background: #F0FAFF; \">\n",
    "<h1>Example: Cortical Column</h1>\n",
    "<p> In this example, a version of the Potjans and Diesmann cortical column <a href='#cortical_column' id='cortical_column_first_ref'>[1]</a> is simulated with dipde."
   ]
  },
  {
   "cell_type": "code",
   "execution_count": 23,
   "metadata": {
    "collapsed": false
   },
   "outputs": [],
   "source": [
    "%matplotlib inline\n",
    "import dipde\n",
    "assert dipde.__version__ == '0.2.1'\n",
    "import ipywidgets as ipw\n",
    "import matplotlib.pyplot as plt\n",
    "import itertools\n",
    "import copy\n",
    "import logging\n",
    "logging.disable(logging.CRITICAL)"
   ]
  },
  {
   "cell_type": "code",
   "execution_count": 24,
   "metadata": {
    "collapsed": true
   },
   "outputs": [],
   "source": [
    "def get_network(f, dv = .0002):\n",
    "\n",
    "    nsyn_background = {\n",
    "        (23, 'e'): 1600,\n",
    "        (23, 'i'): 1500,\n",
    "        (4, 'e'): 2100,\n",
    "        (4, 'i'): 1900,\n",
    "        (5, 'e'): 2000,\n",
    "        (5, 'i'): 1900,\n",
    "        (6, 'e'): 2900,\n",
    "        (6, 'i'): 2100\n",
    "    }\n",
    "    \n",
    "    background_firing_rate = 8\n",
    "    \n",
    "    background_delay = {\n",
    "        'e': 0.005,\n",
    "        'i': 0.0\n",
    "    }\n",
    "    \n",
    "    internal_population_sizes = {\n",
    "        (23, 'e'): 20683,\n",
    "        (23, 'i'): 5834,\n",
    "        (4, 'e'): 21915,\n",
    "        (4, 'i'): 5479,\n",
    "        (5, 'e'): 4850,\n",
    "        (5, 'i'): 1065,\n",
    "        (6, 'e'): 14395,\n",
    "        (6, 'i'): 2948\n",
    "    }\n",
    "    \n",
    "    connection_probabilities = {((23,'e'),(23,'e')):.101,   ((23,'e'),(23,'i')):.135,  ((23,'e'),(4,'e')):.008,   ((23,'e'),(4,'i')):.069,   ((23,'e'),(5,'e')):.100,   ((23,'e'),(5,'i')):.055,   ((23,'e'),(6,'e')):.016,   ((23,'e'),(6,'i')):.036,\n",
    "                                ((23,'i'),(23,'e')):.169,   ((23,'i'),(23,'i')):.137,  ((23,'i'),(4,'e')):.006,   ((23,'i'),(4,'i')):.003,   ((23,'i'),(5,'e')):.062,   ((23,'i'),(5,'i')):.027,   ((23,'i'),(6,'e')):.007,   ((23,'i'),(6,'i')):.001,\n",
    "                                ((4,'e'),(23,'e')):.088,    ((4,'e'),(23,'i')):.032,   ((4,'e'),(4,'e')):.050,    ((4,'e'),(4,'i')):.079,    ((4,'e'),(5,'e')):.051,    ((4,'e'),(5,'i')):.026,    ((4,'e'),(6,'e')):.021,    ((4,'e'),(6,'i')):.003,\n",
    "                                ((4,'i'),(23,'e')):.082,    ((4,'i'),(23,'i')):.052,   ((4,'i'),(4,'e')):.135,    ((4,'i'),(4,'i')):.160,    ((4,'i'),(5,'e')):.006,    ((4,'i'),(5,'i')):.002,    ((4,'i'),(6,'e')):.017,    ((4,'i'),(6,'i')):.001,\n",
    "                                ((5,'e'),(23,'e')):.032,    ((5,'e'),(23,'i')):.075,   ((5,'e'),(4,'e')):.007,    ((5,'e'),(4,'i')):.003,    ((5,'e'),(5,'e')):.083,    ((5,'e'),(5,'i')):.060,    ((5,'e'),(6,'e')):.057,    ((5,'e'),(6,'i')):.028,\n",
    "                                ((5,'i'),(23,'e')):0,       ((5,'i'),(23,'i')):0,      ((5,'i'),(4,'e')):.0003,   ((5,'i'),(4,'i')):0,       ((5,'i'),(5,'e')):.373,    ((5,'i'),(5,'i')):.316,    ((5,'i'),(6,'e')):.020,    ((5,'i'),(6,'i')):.008,\n",
    "                                ((6,'e'),(23,'e')):.008,    ((6,'e'),(23,'i')):.004,   ((6,'e'),(4,'e')):.045,    ((6,'e'),(4,'i')):.106,    ((6,'e'),(5,'e')):.020,    ((6,'e'),(5,'i')):.009,    ((6,'e'),(6,'e')):.040,    ((6,'e'),(6,'i')):.066,\n",
    "                                ((6,'i'),(23,'e')):0,       ((6,'i'),(23,'i')):0,      ((6,'i'),(4,'e')):0,       ((6,'i'),(4,'i')):0,       ((6,'i'),(5,'e')):0,       ((6,'i'),(5,'i')):0,       ((6,'i'),(6,'e')):.225,    ((6,'i'),(6,'i')):.144}\n",
    "    \n",
    "    conn_weights = {\n",
    "        'e': .175*1e-3,\n",
    "        'i': -.7*1e-3\n",
    "    }\n",
    "    \n",
    "    position_dict = {\n",
    "        (23, 'e'): (0,0,3),\n",
    "        (23, 'i'): (0,1,3),\n",
    "        (4, 'e'): (0,0,2),\n",
    "        (4, 'i'): (0,1,2),\n",
    "        (5, 'e'): (0,0,1),\n",
    "        (5, 'i'): (0,1,1),\n",
    "        (6, 'e'): (0,0,0),\n",
    "        (6, 'i'): (0,1,0)\n",
    "    }\n",
    "    \n",
    "    internal_population_settings = {'v_min': -.03, \n",
    "                                    'v_max':.015,\n",
    "                                    'dv':dv,\n",
    "                                    'update_method':'gmres',\n",
    "                                    'tau_m':.01,\n",
    "                                    'tol':1e-7,\n",
    "                                    'record':True}\n",
    "    \n",
    "    # Create populations:\n",
    "    background_population_dict = {}\n",
    "    internal_population_dict = {}\n",
    "    for layer, celltype in itertools.product([23, 4, 5, 6], ['e', 'i']):    \n",
    "        background_population_dict[layer, celltype] = dipde.ExternalPopulation('Heaviside(t)*%s' % background_firing_rate, record=False, metadata={'layer':layer, 'celltype':celltype})\n",
    "        curr_population_settings = copy.copy(internal_population_settings)\n",
    "        x_pos, y_pos, z_pos = position_dict[layer, celltype]\n",
    "        metadata={'layer':layer, 'celltype':celltype, 'x':x_pos, 'y':y_pos, 'z':z_pos,}\n",
    "        curr_population_settings.update({'metadata':metadata})\n",
    "        internal_population_dict[layer, celltype] = dipde.InternalPopulation(**curr_population_settings)\n",
    "    \n",
    "    # Create background connections:\n",
    "    connection_list = []\n",
    "    for layer, celltype in itertools.product([23, 4, 5, 6], ['e', 'i']):\n",
    "        source_population = background_population_dict[layer, celltype]\n",
    "        target_population = internal_population_dict[layer, celltype]\n",
    "        if celltype == 'e':\n",
    "            background_delay = .005\n",
    "        else:\n",
    "            background_delay = 0.\n",
    "        curr_connection = dipde.Connection(source_population, target_population, nsyn_background[layer, celltype], weights=conn_weights['e'], delays=background_delay) \n",
    "        connection_list.append(curr_connection)\n",
    "    \n",
    "    # Create recurrent connections:\n",
    "    for source_layer, source_celltype in itertools.product([23, 4, 5, 6], ['e', 'i']):\n",
    "        for target_layer, target_celltype in itertools.product([23, 4, 5, 6], ['e', 'i']):\n",
    "            source_population = internal_population_dict[source_layer, source_celltype]\n",
    "            target_population = internal_population_dict[target_layer, target_celltype]\n",
    "            nsyn = connection_probabilities[(source_layer, source_celltype), (target_layer, target_celltype)]*internal_population_sizes[source_layer, source_celltype]\n",
    "            weight = conn_weights[source_celltype]\n",
    "            curr_connection = dipde.Connection(source_population, target_population, nsyn, weights=weight, delays=0)\n",
    "            connection_list.append(curr_connection)\n",
    "    \n",
    "    # Create simulation:\n",
    "    population_list = background_population_dict.values() + internal_population_dict.values()\n",
    "\n",
    "    def update_callback(n):\n",
    "        f.value += 1\n",
    "    network = dipde.Network(population_list, connection_list, update_callback=update_callback)\n",
    "    \n",
    "    return network"
   ]
  },
  {
   "cell_type": "code",
   "execution_count": 25,
   "metadata": {
    "collapsed": false,
    "scrolled": true
   },
   "outputs": [
    {
     "name": "stdout",
     "output_type": "stream",
     "text": [
      "Run Time: 8.58590292931\n"
     ]
    },
    {
     "data": {
      "image/png": "[encoded data removed]",
      "text/plain": [
       "<matplotlib.figure.Figure at 0x1166cd6d0>"
      ]
     },
     "metadata": {},
     "output_type": "display_data"
    }
   ],
   "source": [
    "from IPython.display import display\n",
    "\n",
    "\n",
    "\n",
    "# Simulation settings:\n",
    "t0 = 0.\n",
    "dt = .0002\n",
    "tf = .1\n",
    "dv = .0002\n",
    "\n",
    "f = ipw.FloatProgress(min=0, max=int((tf-t0)/dt))\n",
    "display(f)\n",
    "network = get_network(f, dv=dv)\n",
    "internal_population_dict = {}\n",
    "for p in network.population_list:\n",
    "    if isinstance(p, dipde.InternalPopulation):\n",
    "        layer = p.metadata['layer']\n",
    "        celltype = p.metadata['celltype']\n",
    "        internal_population_dict[layer, celltype] = p\n",
    "\n",
    "# Run simulation:\n",
    "network.run(dt=dt, tf=tf, t0=t0)\n",
    "print 'Run Time:', network.run_time\n",
    "\n",
    "# Visualize:\n",
    "y_label_dict = {23:'2/3', 4:'4', 5:'5', 6:'6'}\n",
    "\n",
    "result_dict = {}\n",
    "for row_ind, layer in enumerate([23, 4, 5, 6]):\n",
    "    for plot_color, celltype in zip(['r', 'b'],['e', 'i']):\n",
    "        curr_population = internal_population_dict[layer, celltype]\n",
    "        result_dict[layer, celltype] = curr_population.firing_rate_record[-1]\n",
    "\n",
    "fig, axes = plt.subplots(nrows=1, ncols=4, **{'figsize': (16, 4)})\n",
    "for row_ind, layer in enumerate([23, 4, 5, 6]):\n",
    "    for plot_color, celltype in zip(['r', 'b'], ['e', 'i']):\n",
    "        curr_population = internal_population_dict[layer, celltype]\n",
    "        axes[row_ind].plot(curr_population.t_record, curr_population.firing_rate_record, plot_color)\n",
    "\n",
    "\n",
    "    axes[row_ind].set_xlim([0,tf])\n",
    "    axes[row_ind].set_ylim(ymin=0)\n",
    "    axes[row_ind].set_ylabel('Layer %s\\nfiring rate (Hz)' % y_label_dict[layer])\n",
    "    if layer == 5: axes[row_ind].legend(['Excitatory', 'Inhibitory'], prop={'size':10}, loc=4)\n",
    "\n",
    "fig.tight_layout()\n",
    "plt.show()  # pragma: no cover"
   ]
  },
  {
   "cell_type": "markdown",
   "metadata": {},
   "source": [
    "<a id='cortical_column' href='#cortical_column_first_ref'>[1]</a> Potjans T.C., & Diesmann, M. (2014) <a href=http://cercor.oxfordjournals.org/content/early/2012/11/30/cercor.bhs358.full> The cell-type specific cortical microcircuit: relating structure and activity in a full-scale spiking network model. </a> Cerebral Cortex 24: 785–806.\n",
    "\n",
    "\n",
    "\n"
   ]
  }
 ],
 "metadata": {
  "kernelspec": {
   "display_name": "Python 2",
   "language": "python",
   "name": "python2"
  },
  "language_info": {
   "codemirror_mode": {
    "name": "ipython",
    "version": 2
   },
   "file_extension": ".py",
   "mimetype": "text/x-python",
   "name": "python",
   "nbconvert_exporter": "python",
   "pygments_lexer": "ipython2",
   "version": "2.7.12"
  }
 },
 "nbformat": 4,
 "nbformat_minor": 0
}
